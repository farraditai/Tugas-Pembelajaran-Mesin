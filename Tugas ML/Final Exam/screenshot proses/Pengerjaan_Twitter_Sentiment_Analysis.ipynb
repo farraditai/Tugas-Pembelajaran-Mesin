{
  "nbformat": 4,
  "nbformat_minor": 0,
  "metadata": {
    "colab": {
      "name": "Twitter Sentiment Analysis.ipynb",
      "provenance": [],
      "collapsed_sections": []
    },
    "kernelspec": {
      "name": "python3",
      "display_name": "Python 3"
    },
    "language_info": {
      "name": "python"
    }
  },
  "cells": [
    {
      "cell_type": "code",
      "execution_count": 1,
      "metadata": {
        "colab": {
          "base_uri": "https://localhost:8080/"
        },
        "id": "mhE56fmk79sR",
        "outputId": "7d301fb4-c2dc-4d1a-95b6-55dd1581783f"
      },
      "outputs": [
        {
          "output_type": "stream",
          "name": "stdout",
          "text": [
            "/content/drive/MyDrive/Tugas/Tugas ML/Twitter-Sentiment-Analysis-main\n"
          ]
        }
      ],
      "source": [
        "cd drive/MyDrive/Tugas/Tugas ML/Twitter-Sentiment-Analysis-main/code"
      ]
    },
    {
      "cell_type": "code",
      "source": [
        "!python preprocess.py /content/drive/MyDrive/Tugas/Tugas ML/Twitter-Sentiment-Analysis-main/train.csv/"
      ],
      "metadata": {
        "id": "NROFlhEzFU8D"
      },
      "execution_count": null,
      "outputs": []
    },
    {
      "cell_type": "code",
      "source": [
        "!python preprocess.py /content/drive/MyDrive/Tugas/Tugas ML/Twitter-Sentiment-Analysis-main/test.csv/"
      ],
      "metadata": {
        "id": "sPC15nQrIXBV"
      },
      "execution_count": null,
      "outputs": []
    },
    {
      "cell_type": "code",
      "source": [
        "!python stats.py /content/drive/MyDrive/Tugas/Tugas ML/Twitter-Sentiment-Analysis-main/code/train-processed.csv/"
      ],
      "metadata": {
        "id": "n1fwghVnU380"
      },
      "execution_count": null,
      "outputs": []
    },
    {
      "cell_type": "code",
      "source": [
        "!python baseline.py"
      ],
      "metadata": {
        "id": "uygncRNB920v"
      },
      "execution_count": null,
      "outputs": []
    },
    {
      "cell_type": "code",
      "source": [
        "!python naivebayes.py"
      ],
      "metadata": {
        "id": "8C8ojmhD95IG"
      },
      "execution_count": null,
      "outputs": []
    },
    {
      "cell_type": "code",
      "source": [
        "!python logistic.py"
      ],
      "metadata": {
        "colab": {
          "base_uri": "https://localhost:8080/"
        },
        "id": "UFlTSOuBcNVO",
        "outputId": "05f05101-6bc3-4152-b94a-37edeb043c70"
      },
      "execution_count": 6,
      "outputs": [
        {
          "output_type": "stream",
          "name": "stdout",
          "text": [
            "Generating feature vectors\n",
            "Processing 31962/31962\n",
            "\n",
            "Extracting features & training batches\n",
            "2022-01-24 15:07:04.497429: E tensorflow/stream_executor/cuda/cuda_driver.cc:271] failed call to cuInit: CUDA_ERROR_NO_DEVICE: no CUDA-capable device is detected\n",
            "Iteration 35/58, loss:0.5473, acc:0.92402022-01-24 15:07:09.334705: W tensorflow/core/data/root_dataset.cc:163] Optimization loop failed: CANCELLED: Operation was cancelled\n",
            "Iteration 39/58, loss:0.5417, acc:0.92402022-01-24 15:07:09.733773: W tensorflow/core/data/root_dataset.cc:163] Optimization loop failed: CANCELLED: Operation was cancelled\n",
            "Iteration 58/58, loss:0.5689, acc:0.96202022-01-24 15:07:12.033248: W tensorflow/core/data/root_dataset.cc:163] Optimization loop failed: CANCELLED: Operation was cancelled\n",
            "2022-01-24 15:07:12.147386: W tensorflow/core/data/root_dataset.cc:163] Optimization loop failed: CANCELLED: Operation was cancelled\n",
            "2022-01-24 15:07:12.241622: W tensorflow/core/data/root_dataset.cc:163] Optimization loop failed: CANCELLED: Operation was cancelled\n",
            "2022-01-24 15:07:12.330099: W tensorflow/core/data/root_dataset.cc:163] Optimization loop failed: CANCELLED: Operation was cancelled\n",
            "\n",
            "Epoch: 1, val_acc:1.0310\n",
            "Accuracy improved from 0.0000 to 1.0310, saving model\n",
            "Iteration 7/58, loss:0.4709, acc:0.92802022-01-24 15:07:13.226382: W tensorflow/core/data/root_dataset.cc:163] Optimization loop failed: CANCELLED: Operation was cancelled\n",
            "Iteration 12/58, loss:0.4560, acc:0.94402022-01-24 15:07:13.750933: W tensorflow/core/data/root_dataset.cc:163] Optimization loop failed: CANCELLED: Operation was cancelled\n",
            "Iteration 26/58, loss:0.4315, acc:0.93402022-01-24 15:07:15.165900: W tensorflow/core/data/root_dataset.cc:163] Optimization loop failed: CANCELLED: Operation was cancelled\n",
            "Iteration 33/58, loss:0.4072, acc:0.94802022-01-24 15:07:15.878993: W tensorflow/core/data/root_dataset.cc:163] Optimization loop failed: CANCELLED: Operation was cancelled\n",
            "Iteration 58/58, loss:0.5055, acc:0.97202022-01-24 15:07:18.480286: W tensorflow/core/data/root_dataset.cc:163] Optimization loop failed: CANCELLED: Operation was cancelled\n",
            "\n",
            "Epoch: 2, val_acc:1.0322\n",
            "Accuracy improved from 1.0310 to 1.0322, saving model\n",
            "Iteration 58/58, loss:0.4742, acc:0.95002022-01-24 15:07:25.106343: W tensorflow/core/data/root_dataset.cc:163] Optimization loop failed: CANCELLED: Operation was cancelled\n",
            "2022-01-24 15:07:25.194475: W tensorflow/core/data/root_dataset.cc:163] Optimization loop failed: CANCELLED: Operation was cancelled\n",
            "2022-01-24 15:07:25.291393: W tensorflow/core/data/root_dataset.cc:163] Optimization loop failed: CANCELLED: Operation was cancelled\n",
            "2022-01-24 15:07:25.380443: W tensorflow/core/data/root_dataset.cc:163] Optimization loop failed: CANCELLED: Operation was cancelled\n",
            "2022-01-24 15:07:25.474366: W tensorflow/core/data/root_dataset.cc:163] Optimization loop failed: CANCELLED: Operation was cancelled\n",
            "\n",
            "Epoch: 3, val_acc:1.0335\n",
            "Accuracy improved from 1.0322 to 1.0335, saving model\n",
            "Iteration 3/58, loss:0.3080, acc:0.94002022-01-24 15:07:25.945539: W tensorflow/core/data/root_dataset.cc:163] Optimization loop failed: CANCELLED: Operation was cancelled\n",
            "Iteration 58/58, loss:0.4488, acc:0.95802022-01-24 15:07:31.462255: W tensorflow/core/data/root_dataset.cc:163] Optimization loop failed: CANCELLED: Operation was cancelled\n",
            "2022-01-24 15:07:31.558949: W tensorflow/core/data/root_dataset.cc:163] Optimization loop failed: CANCELLED: Operation was cancelled\n",
            "2022-01-24 15:07:31.652897: W tensorflow/core/data/root_dataset.cc:163] Optimization loop failed: CANCELLED: Operation was cancelled\n",
            "2022-01-24 15:07:31.749449: W tensorflow/core/data/root_dataset.cc:163] Optimization loop failed: CANCELLED: Operation was cancelled\n",
            "2022-01-24 15:07:31.840706: W tensorflow/core/data/root_dataset.cc:163] Optimization loop failed: CANCELLED: Operation was cancelled\n",
            "2022-01-24 15:07:31.930983: W tensorflow/core/data/root_dataset.cc:163] Optimization loop failed: CANCELLED: Operation was cancelled\n",
            "2022-01-24 15:07:32.016768: W tensorflow/core/data/root_dataset.cc:163] Optimization loop failed: CANCELLED: Operation was cancelled\n",
            "\n",
            "Epoch: 4, val_acc:1.0350\n",
            "Accuracy improved from 1.0335 to 1.0350, saving model\n",
            "Iteration 12/58, loss:0.2644, acc:0.94602022-01-24 15:07:33.373383: W tensorflow/core/data/root_dataset.cc:163] Optimization loop failed: CANCELLED: Operation was cancelled\n",
            "Iteration 25/58, loss:0.2600, acc:0.94802022-01-24 15:07:34.698250: W tensorflow/core/data/root_dataset.cc:163] Optimization loop failed: CANCELLED: Operation was cancelled\n",
            "Iteration 58/58, loss:0.4010, acc:0.98002022-01-24 15:07:38.004408: W tensorflow/core/data/root_dataset.cc:163] Optimization loop failed: CANCELLED: Operation was cancelled\n",
            "2022-01-24 15:07:38.090449: W tensorflow/core/data/root_dataset.cc:163] Optimization loop failed: CANCELLED: Operation was cancelled\n",
            "2022-01-24 15:07:38.180825: W tensorflow/core/data/root_dataset.cc:163] Optimization loop failed: CANCELLED: Operation was cancelled\n",
            "2022-01-24 15:07:38.265514: W tensorflow/core/data/root_dataset.cc:163] Optimization loop failed: CANCELLED: Operation was cancelled\n",
            "2022-01-24 15:07:38.356119: W tensorflow/core/data/root_dataset.cc:163] Optimization loop failed: CANCELLED: Operation was cancelled\n",
            "2022-01-24 15:07:38.444085: W tensorflow/core/data/root_dataset.cc:163] Optimization loop failed: CANCELLED: Operation was cancelled\n",
            "2022-01-24 15:07:38.528183: W tensorflow/core/data/root_dataset.cc:163] Optimization loop failed: CANCELLED: Operation was cancelled\n",
            "\n",
            "Epoch: 5, val_acc:1.0357\n",
            "Accuracy improved from 1.0350 to 1.0357, saving model\n",
            "Iteration 16/58, loss:0.2461, acc:0.94802022-01-24 15:07:40.302402: W tensorflow/core/data/root_dataset.cc:163] Optimization loop failed: CANCELLED: Operation was cancelled\n",
            "Iteration 58/58, loss:0.3925, acc:0.97202022-01-24 15:07:44.670489: W tensorflow/core/data/root_dataset.cc:163] Optimization loop failed: CANCELLED: Operation was cancelled\n",
            "2022-01-24 15:07:44.754235: W tensorflow/core/data/root_dataset.cc:163] Optimization loop failed: CANCELLED: Operation was cancelled\n",
            "2022-01-24 15:07:44.845784: W tensorflow/core/data/root_dataset.cc:163] Optimization loop failed: CANCELLED: Operation was cancelled\n",
            "2022-01-24 15:07:44.936821: W tensorflow/core/data/root_dataset.cc:163] Optimization loop failed: CANCELLED: Operation was cancelled\n",
            "\n",
            "Epoch: 6, val_acc:1.0363\n",
            "Accuracy improved from 1.0357 to 1.0363, saving model\n",
            "Iteration 42/58, loss:0.2155, acc:0.94402022-01-24 15:07:49.972365: W tensorflow/core/data/root_dataset.cc:163] Optimization loop failed: CANCELLED: Operation was cancelled\n",
            "Iteration 58/58, loss:0.3904, acc:0.9760\n",
            "Epoch: 7, val_acc:1.0375\n",
            "Accuracy improved from 1.0363 to 1.0375, saving model\n",
            "Iteration 23/58, loss:0.2495, acc:0.93002022-01-24 15:07:54.566882: W tensorflow/core/data/root_dataset.cc:163] Optimization loop failed: CANCELLED: Operation was cancelled\n",
            "Iteration 58/58, loss:0.3980, acc:0.96202022-01-24 15:07:58.042260: W tensorflow/core/data/root_dataset.cc:163] Optimization loop failed: CANCELLED: Operation was cancelled\n",
            "2022-01-24 15:07:58.341696: W tensorflow/core/data/root_dataset.cc:163] Optimization loop failed: CANCELLED: Operation was cancelled\n",
            "2022-01-24 15:07:58.432437: W tensorflow/core/data/root_dataset.cc:163] Optimization loop failed: CANCELLED: Operation was cancelled\n",
            "2022-01-24 15:07:58.521153: W tensorflow/core/data/root_dataset.cc:163] Optimization loop failed: CANCELLED: Operation was cancelled\n",
            "\n",
            "Epoch: 8, val_acc:1.0378\n",
            "Accuracy improved from 1.0375 to 1.0378, saving model\n",
            "Iteration 58/58, loss:0.3807, acc:0.96202022-01-24 15:08:04.921028: W tensorflow/core/data/root_dataset.cc:163] Optimization loop failed: CANCELLED: Operation was cancelled\n",
            "2022-01-24 15:08:05.019552: W tensorflow/core/data/root_dataset.cc:163] Optimization loop failed: CANCELLED: Operation was cancelled\n",
            "2022-01-24 15:08:05.119572: W tensorflow/core/data/root_dataset.cc:163] Optimization loop failed: CANCELLED: Operation was cancelled\n",
            "2022-01-24 15:08:05.204668: W tensorflow/core/data/root_dataset.cc:163] Optimization loop failed: CANCELLED: Operation was cancelled\n",
            "\n",
            "Epoch: 9, val_acc:1.0385\n",
            "Accuracy improved from 1.0378 to 1.0385, saving model\n",
            "Iteration 19/58, loss:0.1896, acc:0.94802022-01-24 15:08:07.870940: W tensorflow/core/data/root_dataset.cc:163] Optimization loop failed: CANCELLED: Operation was cancelled\n",
            "Iteration 54/58, loss:0.1815, acc:0.95202022-01-24 15:08:11.443992: W tensorflow/core/data/root_dataset.cc:163] Optimization loop failed: CANCELLED: Operation was cancelled\n",
            "Iteration 58/58, loss:0.3458, acc:0.97802022-01-24 15:08:11.934391: W tensorflow/core/data/root_dataset.cc:163] Optimization loop failed: CANCELLED: Operation was cancelled\n",
            "2022-01-24 15:08:12.032153: W tensorflow/core/data/root_dataset.cc:163] Optimization loop failed: CANCELLED: Operation was cancelled\n",
            "2022-01-24 15:08:12.311357: W tensorflow/core/data/root_dataset.cc:163] Optimization loop failed: CANCELLED: Operation was cancelled\n",
            "2022-01-24 15:08:12.398950: W tensorflow/core/data/root_dataset.cc:163] Optimization loop failed: CANCELLED: Operation was cancelled\n",
            "\n",
            "Epoch: 10, val_acc:1.0391\n",
            "Accuracy improved from 1.0385 to 1.0391, saving model\n",
            "Iteration 58/58, loss:0.3304, acc:0.98402022-01-24 15:08:19.122315: W tensorflow/core/data/root_dataset.cc:163] Optimization loop failed: CANCELLED: Operation was cancelled\n",
            "2022-01-24 15:08:19.209085: W tensorflow/core/data/root_dataset.cc:163] Optimization loop failed: CANCELLED: Operation was cancelled\n",
            "2022-01-24 15:08:19.301547: W tensorflow/core/data/root_dataset.cc:163] Optimization loop failed: CANCELLED: Operation was cancelled\n",
            "\n",
            "Epoch: 11, val_acc:1.0394\n",
            "Accuracy improved from 1.0391 to 1.0394, saving model\n",
            "Iteration 1/58, loss:0.1680, acc:0.95602022-01-24 15:08:20.391659: W tensorflow/core/data/root_dataset.cc:163] Optimization loop failed: CANCELLED: Operation was cancelled\n",
            "Iteration 18/58, loss:0.1885, acc:0.94402022-01-24 15:08:22.074451: W tensorflow/core/data/root_dataset.cc:163] Optimization loop failed: CANCELLED: Operation was cancelled\n",
            "Iteration 31/58, loss:0.1928, acc:0.93802022-01-24 15:08:23.396712: W tensorflow/core/data/root_dataset.cc:163] Optimization loop failed: CANCELLED: Operation was cancelled\n",
            "Iteration 33/58, loss:0.1633, acc:0.96202022-01-24 15:08:23.592432: W tensorflow/core/data/root_dataset.cc:163] Optimization loop failed: CANCELLED: Operation was cancelled\n",
            "Iteration 55/58, loss:0.1776, acc:0.94802022-01-24 15:08:25.780080: W tensorflow/core/data/root_dataset.cc:163] Optimization loop failed: CANCELLED: Operation was cancelled\n",
            "Iteration 58/58, loss:0.3249, acc:0.98402022-01-24 15:08:26.154953: W tensorflow/core/data/root_dataset.cc:163] Optimization loop failed: CANCELLED: Operation was cancelled\n",
            "2022-01-24 15:08:26.243841: W tensorflow/core/data/root_dataset.cc:163] Optimization loop failed: CANCELLED: Operation was cancelled\n",
            "2022-01-24 15:08:26.328868: W tensorflow/core/data/root_dataset.cc:163] Optimization loop failed: CANCELLED: Operation was cancelled\n",
            "2022-01-24 15:08:26.522232: W tensorflow/core/data/root_dataset.cc:163] Optimization loop failed: CANCELLED: Operation was cancelled\n",
            "2022-01-24 15:08:26.610772: W tensorflow/core/data/root_dataset.cc:163] Optimization loop failed: CANCELLED: Operation was cancelled\n",
            "\n",
            "Epoch: 12, val_acc:1.0404\n",
            "Accuracy improved from 1.0394 to 1.0404, saving model\n",
            "Iteration 32/58, loss:0.1908, acc:0.94402022-01-24 15:08:30.527664: W tensorflow/core/data/root_dataset.cc:163] Optimization loop failed: CANCELLED: Operation was cancelled\n",
            "Iteration 41/58, loss:0.1621, acc:0.95802022-01-24 15:08:31.445247: W tensorflow/core/data/root_dataset.cc:163] Optimization loop failed: CANCELLED: Operation was cancelled\n",
            "Iteration 58/58, loss:0.3300, acc:0.98802022-01-24 15:08:33.189746: W tensorflow/core/data/root_dataset.cc:163] Optimization loop failed: CANCELLED: Operation was cancelled\n",
            "2022-01-24 15:08:33.280932: W tensorflow/core/data/root_dataset.cc:163] Optimization loop failed: CANCELLED: Operation was cancelled\n",
            "2022-01-24 15:08:33.373435: W tensorflow/core/data/root_dataset.cc:163] Optimization loop failed: CANCELLED: Operation was cancelled\n",
            "2022-01-24 15:08:33.473267: W tensorflow/core/data/root_dataset.cc:163] Optimization loop failed: CANCELLED: Operation was cancelled\n",
            "2022-01-24 15:08:33.570137: W tensorflow/core/data/root_dataset.cc:163] Optimization loop failed: CANCELLED: Operation was cancelled\n",
            "2022-01-24 15:08:33.657121: W tensorflow/core/data/root_dataset.cc:163] Optimization loop failed: CANCELLED: Operation was cancelled\n",
            "\n",
            "Epoch: 13, val_acc:1.0419\n",
            "Accuracy improved from 1.0404 to 1.0419, saving model\n",
            "Iteration 11/58, loss:0.1366, acc:0.96802022-01-24 15:08:35.500277: W tensorflow/core/data/root_dataset.cc:163] Optimization loop failed: CANCELLED: Operation was cancelled\n",
            "Iteration 16/58, loss:0.1518, acc:0.96002022-01-24 15:08:35.980662: W tensorflow/core/data/root_dataset.cc:163] Optimization loop failed: CANCELLED: Operation was cancelled\n",
            "Iteration 22/58, loss:0.2040, acc:0.92202022-01-24 15:08:36.578753: W tensorflow/core/data/root_dataset.cc:163] Optimization loop failed: CANCELLED: Operation was cancelled\n",
            "Iteration 58/58, loss:0.3461, acc:0.96202022-01-24 15:08:40.150043: W tensorflow/core/data/root_dataset.cc:163] Optimization loop failed: CANCELLED: Operation was cancelled\n",
            "2022-01-24 15:08:40.434687: W tensorflow/core/data/root_dataset.cc:163] Optimization loop failed: CANCELLED: Operation was cancelled\n",
            "2022-01-24 15:08:40.524295: W tensorflow/core/data/root_dataset.cc:163] Optimization loop failed: CANCELLED: Operation was cancelled\n",
            "\n",
            "Epoch: 14, val_acc:1.0438\n",
            "Accuracy improved from 1.0419 to 1.0438, saving model\n",
            "Iteration 9/58, loss:0.1523, acc:0.95602022-01-24 15:08:42.311263: W tensorflow/core/data/root_dataset.cc:163] Optimization loop failed: CANCELLED: Operation was cancelled\n",
            "Iteration 58/58, loss:0.3111, acc:0.98002022-01-24 15:08:47.163284: W tensorflow/core/data/root_dataset.cc:163] Optimization loop failed: CANCELLED: Operation was cancelled\n",
            "2022-01-24 15:08:47.254004: W tensorflow/core/data/root_dataset.cc:163] Optimization loop failed: CANCELLED: Operation was cancelled\n",
            "2022-01-24 15:08:47.352633: W tensorflow/core/data/root_dataset.cc:163] Optimization loop failed: CANCELLED: Operation was cancelled\n",
            "2022-01-24 15:08:47.444600: W tensorflow/core/data/root_dataset.cc:163] Optimization loop failed: CANCELLED: Operation was cancelled\n",
            "2022-01-24 15:08:47.536717: W tensorflow/core/data/root_dataset.cc:163] Optimization loop failed: CANCELLED: Operation was cancelled\n",
            "2022-01-24 15:08:47.633262: W tensorflow/core/data/root_dataset.cc:163] Optimization loop failed: CANCELLED: Operation was cancelled\n",
            "2022-01-24 15:08:47.714249: W tensorflow/core/data/root_dataset.cc:163] Optimization loop failed: CANCELLED: Operation was cancelled\n",
            "\n",
            "Epoch: 15, val_acc:1.0441\n",
            "Accuracy improved from 1.0438 to 1.0441, saving model\n",
            "Iteration 58/58, loss:0.2990, acc:0.98402022-01-24 15:08:54.355838: W tensorflow/core/data/root_dataset.cc:163] Optimization loop failed: CANCELLED: Operation was cancelled\n",
            "2022-01-24 15:08:54.442766: W tensorflow/core/data/root_dataset.cc:163] Optimization loop failed: CANCELLED: Operation was cancelled\n",
            "2022-01-24 15:08:54.715219: W tensorflow/core/data/root_dataset.cc:163] Optimization loop failed: CANCELLED: Operation was cancelled\n",
            "\n",
            "Epoch: 16, val_acc:1.0460\n",
            "Accuracy improved from 1.0441 to 1.0460, saving model\n",
            "Iteration 12/58, loss:0.1557, acc:0.95202022-01-24 15:08:56.676665: W tensorflow/core/data/root_dataset.cc:163] Optimization loop failed: CANCELLED: Operation was cancelled\n",
            "Iteration 58/58, loss:0.3069, acc:0.97802022-01-24 15:09:01.366958: W tensorflow/core/data/root_dataset.cc:163] Optimization loop failed: CANCELLED: Operation was cancelled\n",
            "2022-01-24 15:09:01.455371: W tensorflow/core/data/root_dataset.cc:163] Optimization loop failed: CANCELLED: Operation was cancelled\n",
            "2022-01-24 15:09:01.543022: W tensorflow/core/data/root_dataset.cc:163] Optimization loop failed: CANCELLED: Operation was cancelled\n",
            "\n",
            "Epoch: 17, val_acc:1.0475\n",
            "Accuracy improved from 1.0460 to 1.0475, saving model\n",
            "2022-01-24 15:09:02.681740: W tensorflow/core/data/root_dataset.cc:163] Optimization loop failed: CANCELLED: Operation was cancelled\n",
            "Iteration 46/58, loss:0.1499, acc:0.94602022-01-24 15:09:07.366577: W tensorflow/core/data/root_dataset.cc:163] Optimization loop failed: CANCELLED: Operation was cancelled\n",
            "Iteration 58/58, loss:0.3051, acc:0.98002022-01-24 15:09:08.565619: W tensorflow/core/data/root_dataset.cc:163] Optimization loop failed: CANCELLED: Operation was cancelled\n",
            "2022-01-24 15:09:08.739919: W tensorflow/core/data/root_dataset.cc:163] Optimization loop failed: CANCELLED: Operation was cancelled\n",
            "2022-01-24 15:09:08.824548: W tensorflow/core/data/root_dataset.cc:163] Optimization loop failed: CANCELLED: Operation was cancelled\n",
            "2022-01-24 15:09:08.921726: W tensorflow/core/data/root_dataset.cc:163] Optimization loop failed: CANCELLED: Operation was cancelled\n",
            "2022-01-24 15:09:09.100231: W tensorflow/core/data/root_dataset.cc:163] Optimization loop failed: CANCELLED: Operation was cancelled\n",
            "\n",
            "Epoch: 18, val_acc:1.0482\n",
            "Accuracy improved from 1.0475 to 1.0482, saving model\n",
            "Iteration 27/58, loss:0.1386, acc:0.95402022-01-24 15:09:12.515155: W tensorflow/core/data/root_dataset.cc:163] Optimization loop failed: CANCELLED: Operation was cancelled\n",
            "Iteration 39/58, loss:0.1376, acc:0.95802022-01-24 15:09:13.710648: W tensorflow/core/data/root_dataset.cc:163] Optimization loop failed: CANCELLED: Operation was cancelled\n",
            "Iteration 58/58, loss:0.3147, acc:0.96602022-01-24 15:09:15.561727: W tensorflow/core/data/root_dataset.cc:163] Optimization loop failed: CANCELLED: Operation was cancelled\n",
            "2022-01-24 15:09:15.731584: W tensorflow/core/data/root_dataset.cc:163] Optimization loop failed: CANCELLED: Operation was cancelled\n",
            "2022-01-24 15:09:16.088220: W tensorflow/core/data/root_dataset.cc:163] Optimization loop failed: CANCELLED: Operation was cancelled\n",
            "\n",
            "Epoch: 19, val_acc:1.0491\n",
            "Accuracy improved from 1.0482 to 1.0491, saving model\n",
            "Iteration 15/58, loss:0.1203, acc:0.97002022-01-24 15:09:18.235315: W tensorflow/core/data/root_dataset.cc:163] Optimization loop failed: CANCELLED: Operation was cancelled\n",
            "Iteration 58/58, loss:0.2920, acc:0.97402022-01-24 15:09:22.511555: W tensorflow/core/data/root_dataset.cc:163] Optimization loop failed: CANCELLED: Operation was cancelled\n",
            "2022-01-24 15:09:22.863094: W tensorflow/core/data/root_dataset.cc:163] Optimization loop failed: CANCELLED: Operation was cancelled\n",
            "\n",
            "Epoch: 20, val_acc:1.0497\n",
            "Accuracy improved from 1.0491 to 1.0497, saving model\n",
            "Testing\n",
            "Generating feature vectors\n",
            "Processing 17198/17198\n",
            "\n",
            "Predicting batches\n",
            "Processing 1/352022-01-24 15:09:26.612923: W tensorflow/core/data/root_dataset.cc:163] Optimization loop failed: CANCELLED: Operation was cancelled\n",
            "Processing 2/352022-01-24 15:09:26.699777: W tensorflow/core/data/root_dataset.cc:163] Optimization loop failed: CANCELLED: Operation was cancelled\n",
            "Processing 4/352022-01-24 15:09:26.869261: W tensorflow/core/data/root_dataset.cc:163] Optimization loop failed: CANCELLED: Operation was cancelled\n",
            "Processing 5/352022-01-24 15:09:26.958990: W tensorflow/core/data/root_dataset.cc:163] Optimization loop failed: CANCELLED: Operation was cancelled\n",
            "Processing 6/352022-01-24 15:09:27.040296: W tensorflow/core/data/root_dataset.cc:163] Optimization loop failed: CANCELLED: Operation was cancelled\n",
            "Processing 7/352022-01-24 15:09:27.125451: W tensorflow/core/data/root_dataset.cc:163] Optimization loop failed: CANCELLED: Operation was cancelled\n",
            "Processing 8/352022-01-24 15:09:27.206215: W tensorflow/core/data/root_dataset.cc:163] Optimization loop failed: CANCELLED: Operation was cancelled\n",
            "Processing 9/352022-01-24 15:09:27.302539: W tensorflow/core/data/root_dataset.cc:163] Optimization loop failed: CANCELLED: Operation was cancelled\n",
            "Processing 13/352022-01-24 15:09:27.648328: W tensorflow/core/data/root_dataset.cc:163] Optimization loop failed: CANCELLED: Operation was cancelled\n",
            "Processing 14/352022-01-24 15:09:27.737092: W tensorflow/core/data/root_dataset.cc:163] Optimization loop failed: CANCELLED: Operation was cancelled\n",
            "Processing 17/352022-01-24 15:09:27.987738: W tensorflow/core/data/root_dataset.cc:163] Optimization loop failed: CANCELLED: Operation was cancelled\n",
            "Processing 19/352022-01-24 15:09:28.157101: W tensorflow/core/data/root_dataset.cc:163] Optimization loop failed: CANCELLED: Operation was cancelled\n",
            "Processing 20/352022-01-24 15:09:28.245789: W tensorflow/core/data/root_dataset.cc:163] Optimization loop failed: CANCELLED: Operation was cancelled\n",
            "Processing 21/352022-01-24 15:09:28.338688: W tensorflow/core/data/root_dataset.cc:163] Optimization loop failed: CANCELLED: Operation was cancelled\n",
            "Processing 22/352022-01-24 15:09:28.427399: W tensorflow/core/data/root_dataset.cc:163] Optimization loop failed: CANCELLED: Operation was cancelled\n",
            "Processing 23/352022-01-24 15:09:28.508340: W tensorflow/core/data/root_dataset.cc:163] Optimization loop failed: CANCELLED: Operation was cancelled\n",
            "Processing 24/352022-01-24 15:09:28.605973: W tensorflow/core/data/root_dataset.cc:163] Optimization loop failed: CANCELLED: Operation was cancelled\n",
            "Processing 25/352022-01-24 15:09:28.688271: W tensorflow/core/data/root_dataset.cc:163] Optimization loop failed: CANCELLED: Operation was cancelled\n",
            "Processing 26/352022-01-24 15:09:28.773416: W tensorflow/core/data/root_dataset.cc:163] Optimization loop failed: CANCELLED: Operation was cancelled\n",
            "Processing 28/352022-01-24 15:09:28.954793: W tensorflow/core/data/root_dataset.cc:163] Optimization loop failed: CANCELLED: Operation was cancelled\n",
            "Processing 29/352022-01-24 15:09:29.043722: W tensorflow/core/data/root_dataset.cc:163] Optimization loop failed: CANCELLED: Operation was cancelled\n",
            "Processing 30/352022-01-24 15:09:29.127210: W tensorflow/core/data/root_dataset.cc:163] Optimization loop failed: CANCELLED: Operation was cancelled\n",
            "Processing 31/352022-01-24 15:09:29.217687: W tensorflow/core/data/root_dataset.cc:163] Optimization loop failed: CANCELLED: Operation was cancelled\n",
            "Processing 33/352022-01-24 15:09:29.397580: W tensorflow/core/data/root_dataset.cc:163] Optimization loop failed: CANCELLED: Operation was cancelled\n",
            "Processing 34/352022-01-24 15:09:29.478048: W tensorflow/core/data/root_dataset.cc:163] Optimization loop failed: CANCELLED: Operation was cancelled\n",
            "Processing 35/35\n",
            "Saved to logistic.csv\n"
          ]
        }
      ]
    },
    {
      "cell_type": "code",
      "source": [
        "!python maxent-nltk.py"
      ],
      "metadata": {
        "colab": {
          "base_uri": "https://localhost:8080/"
        },
        "id": "2afkfanBoOKE",
        "outputId": "42baa05f-7c0c-4254-c933-a11d7faeba85"
      },
      "execution_count": 7,
      "outputs": [
        {
          "output_type": "stream",
          "name": "stdout",
          "text": [
            "  ==> Training (1 iterations)\n",
            "\n",
            "      Iteration    Log Likelihood    Accuracy\n",
            "      ---------------------------------------\n",
            "             1          -0.69315        0.070\n",
            "         Final          -0.14727        0.932\n",
            "  -2.460 web==True and label is '1'\n",
            "  -2.377 smile==True and label is '1'\n",
            "  -2.374 summer==True and label is '1'\n",
            "  -2.151 cat==True and label is '1'\n",
            "  -2.068 healthy==True and label is '1'\n",
            "  -2.063 beautiful==True and label is '1'\n",
            "  -2.011 happy==True and label is '1'\n",
            "  -1.964 fathersday==True and label is '1'\n",
            "  -1.949 positive==True and label is '1'\n",
            "  -1.893 baby==True and label is '1'\n",
            "Validation set accuracy:0.9287\n",
            "\n",
            "Predicting for test data\n",
            "\n",
            "Saved to maxent.csv\n"
          ]
        }
      ]
    },
    {
      "cell_type": "code",
      "source": [
        "!python decisiontree.py"
      ],
      "metadata": {
        "colab": {
          "base_uri": "https://localhost:8080/"
        },
        "id": "I3ViXMYAoWw0",
        "outputId": "982d1ce2-9c57-487d-8006-dc5d0c4aeac1"
      },
      "execution_count": 10,
      "outputs": [
        {
          "output_type": "stream",
          "name": "stdout",
          "text": [
            "Generating feature vectors\n",
            "Processing 31962/31962\n",
            "\n",
            "Extracting features & training batches\n",
            "Processing 1/1\n",
            "\n",
            "Testing\n",
            "Processing 1/1\n",
            "Correct: 3024/3197 = 94.5887 %\n"
          ]
        }
      ]
    },
    {
      "cell_type": "code",
      "source": [
        "!python randomforest.py"
      ],
      "metadata": {
        "colab": {
          "base_uri": "https://localhost:8080/"
        },
        "id": "2jJvAkS8oYQu",
        "outputId": "607b631a-9d0b-4cef-c09b-9551db489903"
      },
      "execution_count": 11,
      "outputs": [
        {
          "output_type": "stream",
          "name": "stdout",
          "text": [
            "Generating feature vectors\n",
            "Processing 31962/31962\n",
            "\n",
            "Extracting features & training batches\n",
            "Processing 1/1\n",
            "\n",
            "Testing\n",
            "Processing 1/1\n",
            "Correct: 3081/3197 = 96.3716 %\n"
          ]
        }
      ]
    },
    {
      "cell_type": "code",
      "source": [
        "pip install xgboost"
      ],
      "metadata": {
        "colab": {
          "base_uri": "https://localhost:8080/"
        },
        "id": "DwLDf1xormiU",
        "outputId": "dc7a8867-3487-4602-e11c-9663517a9edf"
      },
      "execution_count": 16,
      "outputs": [
        {
          "output_type": "stream",
          "name": "stdout",
          "text": [
            "Requirement already satisfied: xgboost in /usr/local/lib/python3.7/dist-packages (0.90)\n",
            "Requirement already satisfied: scipy in /usr/local/lib/python3.7/dist-packages (from xgboost) (1.4.1)\n",
            "Requirement already satisfied: numpy in /usr/local/lib/python3.7/dist-packages (from xgboost) (1.19.5)\n"
          ]
        }
      ]
    },
    {
      "cell_type": "code",
      "source": [
        "!python xgboost.py"
      ],
      "metadata": {
        "colab": {
          "base_uri": "https://localhost:8080/"
        },
        "id": "oGRX5v2ioebH",
        "outputId": "58750097-a7a1-44e1-cb39-d2e287f704b9"
      },
      "execution_count": 17,
      "outputs": [
        {
          "output_type": "stream",
          "name": "stdout",
          "text": [
            "Traceback (most recent call last):\n",
            "  File \"xgboost.py\", line 4, in <module>\n",
            "    from xgboost import XGBClassifier\n",
            "  File \"/content/drive/MyDrive/Tugas/Tugas ML/Twitter-Sentiment-Analysis-main/code/xgboost.py\", line 4, in <module>\n",
            "    from xgboost import XGBClassifier\n",
            "ImportError: cannot import name 'XGBClassifier' from 'xgboost' (/content/drive/MyDrive/Tugas/Tugas ML/Twitter-Sentiment-Analysis-main/code/xgboost.py)\n"
          ]
        }
      ]
    },
    {
      "cell_type": "code",
      "source": [
        "!python svm.py"
      ],
      "metadata": {
        "colab": {
          "base_uri": "https://localhost:8080/"
        },
        "id": "cG97_nipoiqy",
        "outputId": "73c9cb95-02b6-43ad-b080-b905d3bcbfe3"
      },
      "execution_count": 18,
      "outputs": [
        {
          "output_type": "stream",
          "name": "stdout",
          "text": [
            "Generating feature vectors\n",
            "Processing 31962/31962\n",
            "\n",
            "Extracting features & training batches\n",
            "Processing 1/1\n",
            "\n",
            "Testing\n",
            "Processing 1/1\n",
            "Correct: 3058/3197 = 95.6522 %\n"
          ]
        }
      ]
    },
    {
      "cell_type": "code",
      "source": [
        "!python neuralnet.py"
      ],
      "metadata": {
        "colab": {
          "base_uri": "https://localhost:8080/"
        },
        "id": "a9vheqNDomFV",
        "outputId": "6f431aec-d0f4-4cfb-fd08-1db99a1e0abc"
      },
      "execution_count": 20,
      "outputs": [
        {
          "output_type": "stream",
          "name": "stdout",
          "text": [
            "Generating feature vectors\n",
            "Processing 31962/31962\n",
            "\n",
            "Extracting features & training batches\n",
            "2022-01-24 15:27:57.975645: E tensorflow/stream_executor/cuda/cuda_driver.cc:271] failed call to cuInit: CUDA_ERROR_NO_DEVICE: no CUDA-capable device is detected\n",
            "Iteration 58/58, loss:0.1838, acc:0.9500\n",
            "Epoch: 1, val_acc:1.0263\n",
            "Accuracy improved from 0.0000 to 1.0263, saving model\n",
            "Iteration 58/58, loss:0.1461, acc:0.9580\n",
            "Epoch: 2, val_acc:1.0357\n",
            "Accuracy improved from 1.0263 to 1.0357, saving model\n",
            "Iteration 58/58, loss:0.1214, acc:0.9660\n",
            "Epoch: 3, val_acc:1.0463\n",
            "Accuracy improved from 1.0357 to 1.0463, saving model\n",
            "Iteration 58/58, loss:0.1238, acc:0.9660\n",
            "Epoch: 4, val_acc:1.0535\n",
            "Accuracy improved from 1.0463 to 1.0535, saving model\n",
            "Iteration 58/58, loss:0.0847, acc:0.9880\n",
            "Epoch: 5, val_acc:1.0572\n",
            "Accuracy improved from 1.0535 to 1.0572, saving model\n",
            "Testing\n",
            "Generating feature vectors\n",
            "Processing 17198/17198\n",
            "\n",
            "Predicting batches\n",
            "Processing 35/35\n",
            "Saved to 1layerneuralnet.csv\n"
          ]
        }
      ]
    },
    {
      "cell_type": "code",
      "source": [
        "!python lstm.py"
      ],
      "metadata": {
        "colab": {
          "base_uri": "https://localhost:8080/"
        },
        "id": "iyfXQjqeopYA",
        "outputId": "22a22f14-47b6-4bc2-f0a6-41faf5ae6aa5"
      },
      "execution_count": 29,
      "outputs": [
        {
          "output_type": "stream",
          "name": "stdout",
          "text": [
            "Looking for GLOVE vectors\n",
            "Processing 1193515/0\n",
            "\n",
            "Found 24081 words in GLOVE\n",
            "Generating feature vectors\n",
            "Processing 31962/31962\n",
            "\n",
            "Traceback (most recent call last):\n",
            "  File \"lstm.py\", line 90, in <module>\n",
            "    embedding_matrix[i] = glove_vector\n",
            "ValueError: could not broadcast input array from shape (25) into shape (200)\n"
          ]
        }
      ]
    },
    {
      "cell_type": "code",
      "source": [
        "!python cnn.py"
      ],
      "metadata": {
        "colab": {
          "base_uri": "https://localhost:8080/"
        },
        "id": "CEh_T6RysPul",
        "outputId": "c07f91e7-1f8c-4ba2-95e4-816c71df4777"
      },
      "execution_count": 30,
      "outputs": [
        {
          "output_type": "stream",
          "name": "stdout",
          "text": [
            "Looking for GLOVE seeds\n",
            "Processing 1193515/0\n",
            "\n",
            "Generating feature vectors\n",
            "Processing 31962/31962\n",
            "\n",
            "Traceback (most recent call last):\n",
            "  File \"cnn.py\", line 101, in <module>\n",
            "    embedding_matrix[i] = glove_vector\n",
            "ValueError: could not broadcast input array from shape (25) into shape (200)\n"
          ]
        }
      ]
    },
    {
      "cell_type": "code",
      "source": [
        "!python extract-cnn-feats.py"
      ],
      "metadata": {
        "colab": {
          "base_uri": "https://localhost:8080/"
        },
        "id": "0UtBp2iVsSVX",
        "outputId": "242d4769-742d-415d-e094-27936536a176"
      },
      "execution_count": 31,
      "outputs": [
        {
          "output_type": "stream",
          "name": "stdout",
          "text": [
            "Looking for GLOVE seeds\n",
            "Processing 1193515/0\n",
            "\n",
            "Generating feature vectors\n",
            "Processing 31962/31962\n",
            "\n",
            "Traceback (most recent call last):\n",
            "  File \"extract-cnn-feats.py\", line 85, in <module>\n",
            "    model = load_model(sys.argv[1])\n",
            "IndexError: list index out of range\n"
          ]
        }
      ]
    },
    {
      "cell_type": "code",
      "source": [
        "!python cnn-feats-svm.py"
      ],
      "metadata": {
        "colab": {
          "base_uri": "https://localhost:8080/"
        },
        "id": "1xwFkEk3sZF_",
        "outputId": "52e6b6bc-492d-4440-f5dd-4e7f206542da"
      },
      "execution_count": 32,
      "outputs": [
        {
          "output_type": "stream",
          "name": "stdout",
          "text": [
            "Traceback (most recent call last):\n",
            "  File \"cnn-feats-svm.py\", line 22, in <module>\n",
            "    X_train = np.load(TRAIN_FEATURES_FILE)\n",
            "  File \"/usr/local/lib/python3.7/dist-packages/numpy/lib/npyio.py\", line 416, in load\n",
            "    fid = stack.enter_context(open(os_fspath(file), \"rb\"))\n",
            "FileNotFoundError: [Errno 2] No such file or directory: './train-feats.npy'\n"
          ]
        }
      ]
    },
    {
      "cell_type": "code",
      "source": [
        "!python majority-voting.py"
      ],
      "metadata": {
        "colab": {
          "base_uri": "https://localhost:8080/"
        },
        "id": "8Ilon6G5scUV",
        "outputId": "80ea4260-c205-450f-e53e-622f08a011ab"
      },
      "execution_count": 33,
      "outputs": [
        {
          "output_type": "stream",
          "name": "stdout",
          "text": [
            "[[0. 0.]\n",
            " [0. 0.]\n",
            " [0. 0.]\n",
            " [0. 0.]\n",
            " [0. 0.]\n",
            " [0. 0.]\n",
            " [0. 0.]\n",
            " [0. 0.]\n",
            " [0. 0.]\n",
            " [0. 0.]\n",
            " [0. 0.]\n",
            " [0. 0.]\n",
            " [0. 0.]\n",
            " [0. 0.]\n",
            " [0. 0.]\n",
            " [0. 0.]\n",
            " [0. 0.]\n",
            " [0. 0.]\n",
            " [0. 0.]\n",
            " [0. 0.]\n",
            " [0. 0.]\n",
            " [0. 0.]\n",
            " [0. 0.]\n",
            " [0. 0.]\n",
            " [0. 0.]\n",
            " [0. 0.]\n",
            " [0. 0.]\n",
            " [0. 0.]\n",
            " [0. 0.]\n",
            " [0. 0.]\n",
            " [0. 0.]\n",
            " [0. 0.]\n",
            " [0. 0.]\n",
            " [0. 0.]\n",
            " [0. 0.]\n",
            " [0. 0.]\n",
            " [0. 0.]\n",
            " [0. 0.]\n",
            " [0. 0.]\n",
            " [0. 0.]\n",
            " [0. 0.]\n",
            " [0. 0.]\n",
            " [0. 0.]\n",
            " [0. 0.]\n",
            " [0. 0.]\n",
            " [0. 0.]\n",
            " [0. 0.]\n",
            " [0. 0.]\n",
            " [0. 0.]\n",
            " [0. 0.]]\n"
          ]
        }
      ]
    }
  ]
}