{
 "cells": [
  {
   "cell_type": "markdown",
   "id": "caf51b89",
   "metadata": {
    "papermill": {
     "duration": 0.015818,
     "end_time": "2021-11-07T12:37:05.864381",
     "exception": false,
     "start_time": "2021-11-07T12:37:05.848563",
     "status": "completed"
    },
    "tags": []
   },
   "source": [
    "**This notebook is an exercise in the [Introduction to Machine Learning](https://www.kaggle.com/learn/intro-to-machine-learning) course.  You can reference the tutorial at [this link](https://www.kaggle.com/dansbecker/your-first-machine-learning-model).**\n",
    "\n",
    "---\n"
   ]
  },
  {
   "cell_type": "markdown",
   "id": "65dd4bb3",
   "metadata": {
    "papermill": {
     "duration": 0.014233,
     "end_time": "2021-11-07T12:37:05.893657",
     "exception": false,
     "start_time": "2021-11-07T12:37:05.879424",
     "status": "completed"
    },
    "tags": []
   },
   "source": [
    "## Recap\n",
    "So far, you have loaded your data and reviewed it with the following code. Run this cell to set up your coding environment where the previous step left off."
   ]
  },
  {
   "cell_type": "code",
   "execution_count": 1,
   "id": "6a580492",
   "metadata": {
    "execution": {
     "iopub.execute_input": "2021-11-07T12:37:05.929094Z",
     "iopub.status.busy": "2021-11-07T12:37:05.927948Z",
     "iopub.status.idle": "2021-11-07T12:37:07.110741Z",
     "shell.execute_reply": "2021-11-07T12:37:07.111545Z",
     "shell.execute_reply.started": "2021-11-07T12:24:00.312023Z"
    },
    "papermill": {
     "duration": 1.203484,
     "end_time": "2021-11-07T12:37:07.111919",
     "exception": false,
     "start_time": "2021-11-07T12:37:05.908435",
     "status": "completed"
    },
    "tags": []
   },
   "outputs": [
    {
     "name": "stdout",
     "output_type": "stream",
     "text": [
      "Setup Complete\n"
     ]
    }
   ],
   "source": [
    "# Code you have previously used to load data\n",
    "import pandas as pd\n",
    "\n",
    "# Path of the file to read\n",
    "iowa_file_path = '../input/home-data-for-ml-course/train.csv'\n",
    "\n",
    "home_data = pd.read_csv(iowa_file_path)\n",
    "\n",
    "# Set up code checking\n",
    "from learntools.core import binder\n",
    "binder.bind(globals())\n",
    "from learntools.machine_learning.ex3 import *\n",
    "\n",
    "print(\"Setup Complete\")"
   ]
  },
  {
   "cell_type": "markdown",
   "id": "180697b7",
   "metadata": {
    "papermill": {
     "duration": 0.016289,
     "end_time": "2021-11-07T12:37:07.146680",
     "exception": false,
     "start_time": "2021-11-07T12:37:07.130391",
     "status": "completed"
    },
    "tags": []
   },
   "source": [
    "# Exercises\n",
    "\n",
    "## Step 1: Specify Prediction Target\n",
    "Select the target variable, which corresponds to the sales price. Save this to a new variable called `y`. You'll need to print a list of the columns to find the name of the column you need.\n"
   ]
  },
  {
   "cell_type": "code",
   "execution_count": 2,
   "id": "1c2aef02",
   "metadata": {
    "execution": {
     "iopub.execute_input": "2021-11-07T12:37:07.180123Z",
     "iopub.status.busy": "2021-11-07T12:37:07.179506Z",
     "iopub.status.idle": "2021-11-07T12:37:07.187928Z",
     "shell.execute_reply": "2021-11-07T12:37:07.187307Z",
     "shell.execute_reply.started": "2021-11-07T12:24:46.688599Z"
    },
    "papermill": {
     "duration": 0.026083,
     "end_time": "2021-11-07T12:37:07.188059",
     "exception": false,
     "start_time": "2021-11-07T12:37:07.161976",
     "status": "completed"
    },
    "tags": []
   },
   "outputs": [
    {
     "data": {
      "text/plain": [
       "Index(['Id', 'MSSubClass', 'MSZoning', 'LotFrontage', 'LotArea', 'Street',\n",
       "       'Alley', 'LotShape', 'LandContour', 'Utilities', 'LotConfig',\n",
       "       'LandSlope', 'Neighborhood', 'Condition1', 'Condition2', 'BldgType',\n",
       "       'HouseStyle', 'OverallQual', 'OverallCond', 'YearBuilt', 'YearRemodAdd',\n",
       "       'RoofStyle', 'RoofMatl', 'Exterior1st', 'Exterior2nd', 'MasVnrType',\n",
       "       'MasVnrArea', 'ExterQual', 'ExterCond', 'Foundation', 'BsmtQual',\n",
       "       'BsmtCond', 'BsmtExposure', 'BsmtFinType1', 'BsmtFinSF1',\n",
       "       'BsmtFinType2', 'BsmtFinSF2', 'BsmtUnfSF', 'TotalBsmtSF', 'Heating',\n",
       "       'HeatingQC', 'CentralAir', 'Electrical', '1stFlrSF', '2ndFlrSF',\n",
       "       'LowQualFinSF', 'GrLivArea', 'BsmtFullBath', 'BsmtHalfBath', 'FullBath',\n",
       "       'HalfBath', 'BedroomAbvGr', 'KitchenAbvGr', 'KitchenQual',\n",
       "       'TotRmsAbvGrd', 'Functional', 'Fireplaces', 'FireplaceQu', 'GarageType',\n",
       "       'GarageYrBlt', 'GarageFinish', 'GarageCars', 'GarageArea', 'GarageQual',\n",
       "       'GarageCond', 'PavedDrive', 'WoodDeckSF', 'OpenPorchSF',\n",
       "       'EnclosedPorch', '3SsnPorch', 'ScreenPorch', 'PoolArea', 'PoolQC',\n",
       "       'Fence', 'MiscFeature', 'MiscVal', 'MoSold', 'YrSold', 'SaleType',\n",
       "       'SaleCondition', 'SalePrice'],\n",
       "      dtype='object')"
      ]
     },
     "execution_count": 2,
     "metadata": {},
     "output_type": "execute_result"
    }
   ],
   "source": [
    "# print the list of columns in the dataset to find the name of the prediction target\n",
    "home_data.columns"
   ]
  },
  {
   "cell_type": "code",
   "execution_count": 3,
   "id": "089f356a",
   "metadata": {
    "execution": {
     "iopub.execute_input": "2021-11-07T12:37:07.229490Z",
     "iopub.status.busy": "2021-11-07T12:37:07.228755Z",
     "iopub.status.idle": "2021-11-07T12:37:07.234278Z",
     "shell.execute_reply": "2021-11-07T12:37:07.233658Z",
     "shell.execute_reply.started": "2021-11-07T12:25:35.861167Z"
    },
    "papermill": {
     "duration": 0.03088,
     "end_time": "2021-11-07T12:37:07.234426",
     "exception": false,
     "start_time": "2021-11-07T12:37:07.203546",
     "status": "completed"
    },
    "tags": []
   },
   "outputs": [
    {
     "data": {
      "application/javascript": [
       "parent.postMessage({\"jupyterEvent\": \"custom.exercise_interaction\", \"data\": {\"outcomeType\": 1, \"valueTowardsCompletion\": 0.25, \"interactionType\": 1, \"questionType\": 2, \"questionId\": \"1_SetTarget\", \"learnToolsVersion\": \"0.3.4\", \"failureMessage\": \"\", \"exceptionClass\": \"\", \"trace\": \"\"}}, \"*\")"
      ],
      "text/plain": [
       "<IPython.core.display.Javascript object>"
      ]
     },
     "metadata": {},
     "output_type": "display_data"
    },
    {
     "data": {
      "text/markdown": [
       "<span style=\"color:#33cc33\">Correct</span>"
      ],
      "text/plain": [
       "Correct"
      ]
     },
     "metadata": {},
     "output_type": "display_data"
    }
   ],
   "source": [
    "y = home_data.SalePrice\n",
    "\n",
    "# Check your answer\n",
    "step_1.check()"
   ]
  },
  {
   "cell_type": "code",
   "execution_count": 4,
   "id": "2d632ab8",
   "metadata": {
    "collapsed": true,
    "execution": {
     "iopub.execute_input": "2021-11-07T12:37:07.271633Z",
     "iopub.status.busy": "2021-11-07T12:37:07.270944Z",
     "iopub.status.idle": "2021-11-07T12:37:07.273435Z",
     "shell.execute_reply": "2021-11-07T12:37:07.272913Z"
    },
    "jupyter": {
     "outputs_hidden": true
    },
    "papermill": {
     "duration": 0.022843,
     "end_time": "2021-11-07T12:37:07.273573",
     "exception": false,
     "start_time": "2021-11-07T12:37:07.250730",
     "status": "completed"
    },
    "tags": []
   },
   "outputs": [],
   "source": [
    "# The lines below will show you a hint or the solution.\n",
    "# step_1.hint() \n",
    "# step_1.solution()"
   ]
  },
  {
   "cell_type": "markdown",
   "id": "f00802ce",
   "metadata": {
    "papermill": {
     "duration": 0.0163,
     "end_time": "2021-11-07T12:37:07.306471",
     "exception": false,
     "start_time": "2021-11-07T12:37:07.290171",
     "status": "completed"
    },
    "tags": []
   },
   "source": [
    "## Step 2: Create X\n",
    "Now you will create a DataFrame called `X` holding the predictive features.\n",
    "\n",
    "Since you want only some columns from the original data, you'll first create a list with the names of the columns you want in `X`.\n",
    "\n",
    "You'll use just the following columns in the list (you can copy and paste the whole list to save some typing, though you'll still need to add quotes):\n",
    "    * LotArea\n",
    "    * YearBuilt\n",
    "    * 1stFlrSF\n",
    "    * 2ndFlrSF\n",
    "    * FullBath\n",
    "    * BedroomAbvGr\n",
    "    * TotRmsAbvGrd\n",
    "\n",
    "After you've created that list of features, use it to create the DataFrame that you'll use to fit the model."
   ]
  },
  {
   "cell_type": "code",
   "execution_count": 5,
   "id": "106a6405",
   "metadata": {
    "execution": {
     "iopub.execute_input": "2021-11-07T12:37:07.348076Z",
     "iopub.status.busy": "2021-11-07T12:37:07.342453Z",
     "iopub.status.idle": "2021-11-07T12:37:07.353889Z",
     "shell.execute_reply": "2021-11-07T12:37:07.354496Z",
     "shell.execute_reply.started": "2021-11-07T12:28:39.544614Z"
    },
    "papermill": {
     "duration": 0.03161,
     "end_time": "2021-11-07T12:37:07.354654",
     "exception": false,
     "start_time": "2021-11-07T12:37:07.323044",
     "status": "completed"
    },
    "tags": []
   },
   "outputs": [
    {
     "data": {
      "application/javascript": [
       "parent.postMessage({\"jupyterEvent\": \"custom.exercise_interaction\", \"data\": {\"outcomeType\": 1, \"valueTowardsCompletion\": 0.25, \"interactionType\": 1, \"questionType\": 2, \"questionId\": \"2_SelectPredictionData\", \"learnToolsVersion\": \"0.3.4\", \"failureMessage\": \"\", \"exceptionClass\": \"\", \"trace\": \"\"}}, \"*\")"
      ],
      "text/plain": [
       "<IPython.core.display.Javascript object>"
      ]
     },
     "metadata": {},
     "output_type": "display_data"
    },
    {
     "data": {
      "text/markdown": [
       "<span style=\"color:#33cc33\">Correct</span>"
      ],
      "text/plain": [
       "Correct"
      ]
     },
     "metadata": {},
     "output_type": "display_data"
    }
   ],
   "source": [
    "# Create the list of features below\n",
    "feature_names = ['LotArea','YearBuilt','1stFlrSF','2ndFlrSF','FullBath','BedroomAbvGr','TotRmsAbvGrd']\n",
    "\n",
    "# Select data corresponding to features in feature_names\n",
    "X = home_data[feature_names]\n",
    "\n",
    "# Check your answer\n",
    "step_2.check()"
   ]
  },
  {
   "cell_type": "code",
   "execution_count": 6,
   "id": "9253a420",
   "metadata": {
    "collapsed": true,
    "execution": {
     "iopub.execute_input": "2021-11-07T12:37:07.392731Z",
     "iopub.status.busy": "2021-11-07T12:37:07.392083Z",
     "iopub.status.idle": "2021-11-07T12:37:07.395399Z",
     "shell.execute_reply": "2021-11-07T12:37:07.394770Z"
    },
    "jupyter": {
     "outputs_hidden": true
    },
    "papermill": {
     "duration": 0.023408,
     "end_time": "2021-11-07T12:37:07.395548",
     "exception": false,
     "start_time": "2021-11-07T12:37:07.372140",
     "status": "completed"
    },
    "tags": []
   },
   "outputs": [],
   "source": [
    "# step_2.hint()\n",
    "# step_2.solution()"
   ]
  },
  {
   "cell_type": "markdown",
   "id": "081497fc",
   "metadata": {
    "papermill": {
     "duration": 0.017605,
     "end_time": "2021-11-07T12:37:07.430704",
     "exception": false,
     "start_time": "2021-11-07T12:37:07.413099",
     "status": "completed"
    },
    "tags": []
   },
   "source": [
    "## Review Data\n",
    "Before building a model, take a quick look at **X** to verify it looks sensible"
   ]
  },
  {
   "cell_type": "code",
   "execution_count": 7,
   "id": "2db5fd7d",
   "metadata": {
    "execution": {
     "iopub.execute_input": "2021-11-07T12:37:07.477377Z",
     "iopub.status.busy": "2021-11-07T12:37:07.476724Z",
     "iopub.status.idle": "2021-11-07T12:37:07.500955Z",
     "shell.execute_reply": "2021-11-07T12:37:07.501559Z",
     "shell.execute_reply.started": "2021-11-07T12:29:35.628061Z"
    },
    "papermill": {
     "duration": 0.053117,
     "end_time": "2021-11-07T12:37:07.501722",
     "exception": false,
     "start_time": "2021-11-07T12:37:07.448605",
     "status": "completed"
    },
    "tags": []
   },
   "outputs": [
    {
     "data": {
      "text/html": [
       "<div>\n",
       "<style scoped>\n",
       "    .dataframe tbody tr th:only-of-type {\n",
       "        vertical-align: middle;\n",
       "    }\n",
       "\n",
       "    .dataframe tbody tr th {\n",
       "        vertical-align: top;\n",
       "    }\n",
       "\n",
       "    .dataframe thead th {\n",
       "        text-align: right;\n",
       "    }\n",
       "</style>\n",
       "<table border=\"1\" class=\"dataframe\">\n",
       "  <thead>\n",
       "    <tr style=\"text-align: right;\">\n",
       "      <th></th>\n",
       "      <th>LotArea</th>\n",
       "      <th>YearBuilt</th>\n",
       "      <th>1stFlrSF</th>\n",
       "      <th>2ndFlrSF</th>\n",
       "      <th>FullBath</th>\n",
       "      <th>BedroomAbvGr</th>\n",
       "      <th>TotRmsAbvGrd</th>\n",
       "    </tr>\n",
       "  </thead>\n",
       "  <tbody>\n",
       "    <tr>\n",
       "      <th>0</th>\n",
       "      <td>8450</td>\n",
       "      <td>2003</td>\n",
       "      <td>856</td>\n",
       "      <td>854</td>\n",
       "      <td>2</td>\n",
       "      <td>3</td>\n",
       "      <td>8</td>\n",
       "    </tr>\n",
       "    <tr>\n",
       "      <th>1</th>\n",
       "      <td>9600</td>\n",
       "      <td>1976</td>\n",
       "      <td>1262</td>\n",
       "      <td>0</td>\n",
       "      <td>2</td>\n",
       "      <td>3</td>\n",
       "      <td>6</td>\n",
       "    </tr>\n",
       "    <tr>\n",
       "      <th>2</th>\n",
       "      <td>11250</td>\n",
       "      <td>2001</td>\n",
       "      <td>920</td>\n",
       "      <td>866</td>\n",
       "      <td>2</td>\n",
       "      <td>3</td>\n",
       "      <td>6</td>\n",
       "    </tr>\n",
       "    <tr>\n",
       "      <th>3</th>\n",
       "      <td>9550</td>\n",
       "      <td>1915</td>\n",
       "      <td>961</td>\n",
       "      <td>756</td>\n",
       "      <td>1</td>\n",
       "      <td>3</td>\n",
       "      <td>7</td>\n",
       "    </tr>\n",
       "    <tr>\n",
       "      <th>4</th>\n",
       "      <td>14260</td>\n",
       "      <td>2000</td>\n",
       "      <td>1145</td>\n",
       "      <td>1053</td>\n",
       "      <td>2</td>\n",
       "      <td>4</td>\n",
       "      <td>9</td>\n",
       "    </tr>\n",
       "  </tbody>\n",
       "</table>\n",
       "</div>"
      ],
      "text/plain": [
       "   LotArea  YearBuilt  1stFlrSF  2ndFlrSF  FullBath  BedroomAbvGr  \\\n",
       "0     8450       2003       856       854         2             3   \n",
       "1     9600       1976      1262         0         2             3   \n",
       "2    11250       2001       920       866         2             3   \n",
       "3     9550       1915       961       756         1             3   \n",
       "4    14260       2000      1145      1053         2             4   \n",
       "\n",
       "   TotRmsAbvGrd  \n",
       "0             8  \n",
       "1             6  \n",
       "2             6  \n",
       "3             7  \n",
       "4             9  "
      ]
     },
     "execution_count": 7,
     "metadata": {},
     "output_type": "execute_result"
    }
   ],
   "source": [
    "# Review data\n",
    "# print description or statistics from X\n",
    "X.describe()\n",
    "\n",
    "# print the top few lines\n",
    "X.head()"
   ]
  },
  {
   "cell_type": "markdown",
   "id": "15f695e6",
   "metadata": {
    "papermill": {
     "duration": 0.017687,
     "end_time": "2021-11-07T12:37:07.537481",
     "exception": false,
     "start_time": "2021-11-07T12:37:07.519794",
     "status": "completed"
    },
    "tags": []
   },
   "source": [
    "## Step 3: Specify and Fit Model\n",
    "Create a `DecisionTreeRegressor` and save it iowa_model. Ensure you've done the relevant import from sklearn to run this command.\n",
    "\n",
    "Then fit the model you just created using the data in `X` and `y` that you saved above."
   ]
  },
  {
   "cell_type": "code",
   "execution_count": 8,
   "id": "e8a03a6b",
   "metadata": {
    "execution": {
     "iopub.execute_input": "2021-11-07T12:37:07.576398Z",
     "iopub.status.busy": "2021-11-07T12:37:07.575746Z",
     "iopub.status.idle": "2021-11-07T12:37:07.594559Z",
     "shell.execute_reply": "2021-11-07T12:37:07.594997Z",
     "shell.execute_reply.started": "2021-11-07T12:32:15.188613Z"
    },
    "papermill": {
     "duration": 0.039854,
     "end_time": "2021-11-07T12:37:07.595181",
     "exception": false,
     "start_time": "2021-11-07T12:37:07.555327",
     "status": "completed"
    },
    "tags": []
   },
   "outputs": [
    {
     "data": {
      "application/javascript": [
       "parent.postMessage({\"jupyterEvent\": \"custom.exercise_interaction\", \"data\": {\"outcomeType\": 1, \"valueTowardsCompletion\": 0.25, \"interactionType\": 1, \"questionType\": 2, \"questionId\": \"3_CreateModel\", \"learnToolsVersion\": \"0.3.4\", \"failureMessage\": \"\", \"exceptionClass\": \"\", \"trace\": \"\"}}, \"*\")"
      ],
      "text/plain": [
       "<IPython.core.display.Javascript object>"
      ]
     },
     "metadata": {},
     "output_type": "display_data"
    },
    {
     "data": {
      "text/markdown": [
       "<span style=\"color:#33cc33\">Correct</span>"
      ],
      "text/plain": [
       "Correct"
      ]
     },
     "metadata": {},
     "output_type": "display_data"
    }
   ],
   "source": [
    "from sklearn.tree import DecisionTreeRegressor\n",
    "#specify the model. \n",
    "#For model reproducibility, set a numeric value for random_state when specifying the model\n",
    "iowa_model = DecisionTreeRegressor(random_state=1)\n",
    "\n",
    "# Fit the model\n",
    "iowa_model.fit(X,y)\n",
    "\n",
    "# Check your answer\n",
    "step_3.check()"
   ]
  },
  {
   "cell_type": "code",
   "execution_count": 9,
   "id": "ca1089f9",
   "metadata": {
    "collapsed": true,
    "execution": {
     "iopub.execute_input": "2021-11-07T12:37:07.636329Z",
     "iopub.status.busy": "2021-11-07T12:37:07.635742Z",
     "iopub.status.idle": "2021-11-07T12:37:07.639054Z",
     "shell.execute_reply": "2021-11-07T12:37:07.638443Z"
    },
    "jupyter": {
     "outputs_hidden": true
    },
    "papermill": {
     "duration": 0.025077,
     "end_time": "2021-11-07T12:37:07.639178",
     "exception": false,
     "start_time": "2021-11-07T12:37:07.614101",
     "status": "completed"
    },
    "tags": []
   },
   "outputs": [],
   "source": [
    "# step_3.hint()\n",
    "# step_3.solution()"
   ]
  },
  {
   "cell_type": "markdown",
   "id": "d6801df4",
   "metadata": {
    "papermill": {
     "duration": 0.018949,
     "end_time": "2021-11-07T12:37:07.677469",
     "exception": false,
     "start_time": "2021-11-07T12:37:07.658520",
     "status": "completed"
    },
    "tags": []
   },
   "source": [
    "## Step 4: Make Predictions\n",
    "Make predictions with the model's `predict` command using `X` as the data. Save the results to a variable called `predictions`."
   ]
  },
  {
   "cell_type": "code",
   "execution_count": 10,
   "id": "fcf1950b",
   "metadata": {
    "execution": {
     "iopub.execute_input": "2021-11-07T12:37:07.722148Z",
     "iopub.status.busy": "2021-11-07T12:37:07.721538Z",
     "iopub.status.idle": "2021-11-07T12:37:07.731101Z",
     "shell.execute_reply": "2021-11-07T12:37:07.730543Z",
     "shell.execute_reply.started": "2021-11-07T12:35:58.245228Z"
    },
    "papermill": {
     "duration": 0.0345,
     "end_time": "2021-11-07T12:37:07.731261",
     "exception": false,
     "start_time": "2021-11-07T12:37:07.696761",
     "status": "completed"
    },
    "tags": []
   },
   "outputs": [
    {
     "name": "stdout",
     "output_type": "stream",
     "text": [
      "[208500. 181500. 223500. ... 266500. 142125. 147500.]\n"
     ]
    },
    {
     "data": {
      "application/javascript": [
       "parent.postMessage({\"jupyterEvent\": \"custom.exercise_interaction\", \"data\": {\"outcomeType\": 1, \"valueTowardsCompletion\": 0.25, \"interactionType\": 1, \"questionType\": 2, \"questionId\": \"4_MakePredictions\", \"learnToolsVersion\": \"0.3.4\", \"failureMessage\": \"\", \"exceptionClass\": \"\", \"trace\": \"\"}}, \"*\")"
      ],
      "text/plain": [
       "<IPython.core.display.Javascript object>"
      ]
     },
     "metadata": {},
     "output_type": "display_data"
    },
    {
     "data": {
      "text/markdown": [
       "<span style=\"color:#33cc33\">Correct</span>"
      ],
      "text/plain": [
       "Correct"
      ]
     },
     "metadata": {},
     "output_type": "display_data"
    }
   ],
   "source": [
    "predictions = iowa_model.predict(X)\n",
    "print(predictions)\n",
    "\n",
    "# Check your answer\n",
    "step_4.check()"
   ]
  },
  {
   "cell_type": "code",
   "execution_count": 11,
   "id": "b3cce371",
   "metadata": {
    "collapsed": true,
    "execution": {
     "iopub.execute_input": "2021-11-07T12:37:07.775558Z",
     "iopub.status.busy": "2021-11-07T12:37:07.774945Z",
     "iopub.status.idle": "2021-11-07T12:37:07.777268Z",
     "shell.execute_reply": "2021-11-07T12:37:07.777898Z"
    },
    "jupyter": {
     "outputs_hidden": true
    },
    "papermill": {
     "duration": 0.026334,
     "end_time": "2021-11-07T12:37:07.778063",
     "exception": false,
     "start_time": "2021-11-07T12:37:07.751729",
     "status": "completed"
    },
    "tags": []
   },
   "outputs": [],
   "source": [
    "# step_4.hint()\n",
    "# step_4.solution()"
   ]
  },
  {
   "cell_type": "markdown",
   "id": "6a3d35bd",
   "metadata": {
    "papermill": {
     "duration": 0.020283,
     "end_time": "2021-11-07T12:37:07.818994",
     "exception": false,
     "start_time": "2021-11-07T12:37:07.798711",
     "status": "completed"
    },
    "tags": []
   },
   "source": [
    "## Think About Your Results\n",
    "\n",
    "Use the `head` method to compare the top few predictions to the actual home values (in `y`) for those same homes. Anything surprising?\n"
   ]
  },
  {
   "cell_type": "code",
   "execution_count": 12,
   "id": "69328b6a",
   "metadata": {
    "execution": {
     "iopub.execute_input": "2021-11-07T12:37:07.864645Z",
     "iopub.status.busy": "2021-11-07T12:37:07.864006Z",
     "iopub.status.idle": "2021-11-07T12:37:07.869371Z",
     "shell.execute_reply": "2021-11-07T12:37:07.869887Z",
     "shell.execute_reply.started": "2021-11-07T12:34:19.800775Z"
    },
    "papermill": {
     "duration": 0.030585,
     "end_time": "2021-11-07T12:37:07.870052",
     "exception": false,
     "start_time": "2021-11-07T12:37:07.839467",
     "status": "completed"
    },
    "tags": []
   },
   "outputs": [
    {
     "data": {
      "text/plain": [
       "0    208500\n",
       "1    181500\n",
       "2    223500\n",
       "3    140000\n",
       "4    250000\n",
       "Name: SalePrice, dtype: int64"
      ]
     },
     "execution_count": 12,
     "metadata": {},
     "output_type": "execute_result"
    }
   ],
   "source": [
    "# You can write code in this cell\n",
    "y.head()"
   ]
  },
  {
   "cell_type": "markdown",
   "id": "53461a9c",
   "metadata": {
    "papermill": {
     "duration": 0.021009,
     "end_time": "2021-11-07T12:37:07.912093",
     "exception": false,
     "start_time": "2021-11-07T12:37:07.891084",
     "status": "completed"
    },
    "tags": []
   },
   "source": [
    "It's natural to ask how accurate the model's predictions will be and how you can improve that. That will be you're next step.\n",
    "\n",
    "# Keep Going\n",
    "\n",
    "You are ready for **[Model Validation](https://www.kaggle.com/dansbecker/model-validation).**\n"
   ]
  }
 ],
 "metadata": {
  "kernelspec": {
   "display_name": "Python 3",
   "language": "python",
   "name": "python3"
  },
  "language_info": {
   "codemirror_mode": {
    "name": "ipython",
    "version": 3
   },
   "file_extension": ".py",
   "mimetype": "text/x-python",
   "name": "python",
   "nbconvert_exporter": "python",
   "pygments_lexer": "ipython3",
   "version": "3.7.10"
  },
  "papermill": {
   "default_parameters": {},
   "duration": 11.77748,
   "end_time": "2021-11-07T12:37:08.544022",
   "environment_variables": {},
   "exception": null,
   "input_path": "__notebook__.ipynb",
   "output_path": "__notebook__.ipynb",
   "parameters": {},
   "start_time": "2021-11-07T12:36:56.766542",
   "version": "2.3.3"
  }
 },
 "nbformat": 4,
 "nbformat_minor": 5
}
