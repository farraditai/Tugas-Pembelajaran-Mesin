{
  "nbformat": 4,
  "nbformat_minor": 0,
  "metadata": {
    "colab": {
      "name": "Week 7.ipynb",
      "provenance": []
    },
    "kernelspec": {
      "name": "python3",
      "display_name": "Python 3"
    },
    "language_info": {
      "name": "python"
    }
  },
  "cells": [
    {
      "cell_type": "markdown",
      "metadata": {
        "id": "2gdS84cMZTeT"
      },
      "source": [
        "Make your first XGBoost case : https://xgboost.readthedocs.io/en/latest/"
      ]
    },
    {
      "cell_type": "code",
      "metadata": {
        "id": "FJWMZ9uNZSOB",
        "colab": {
          "base_uri": "https://localhost:8080/",
          "height": 231
        },
        "outputId": "5860bcd2-c914-4280-f08e-bcc7eb37044a"
      },
      "source": [
        "import os\n",
        "import numpy as np\n",
        "import xgboost as xgb\n",
        "from sklearn.datasets import load_svmlight_file\n",
        "\n",
        "CURRENT_DIR = os.path.dirname(__file__)\n",
        "train = os.path.join(\"../data/agaricus.txt.train\")\n",
        "test = os.path.join(CURRENT_DIR, \"../data/agaricus.txt.test\")\n",
        "\n",
        "\n",
        "def native_interface():\n",
        "    # load data in do training\n",
        "    dtrain = xgb.DMatrix(train)\n",
        "    dtest = xgb.DMatrix(test)\n",
        "    param = {\"max_depth\": 2, \"eta\": 1, \"objective\": \"binary:logistic\"}\n",
        "    watchlist = [(dtest, \"eval\"), (dtrain, \"train\")]\n",
        "    num_round = 3\n",
        "    bst = xgb.train(param, dtrain, num_round, watchlist)\n",
        "\n",
        "    print(\"start testing prediction from first n trees\")\n",
        "    # predict using first 1 tree\n",
        "    label = dtest.get_label()\n",
        "    ypred1 = bst.predict(dtest, iteration_range=(0, 1))\n",
        "    # by default, we predict using all the trees\n",
        "    ypred2 = bst.predict(dtest)\n",
        "\n",
        "    print(\"error of ypred1=%f\" % (np.sum((ypred1 > 0.5) != label) / float(len(label))))\n",
        "    print(\"error of ypred2=%f\" % (np.sum((ypred2 > 0.5) != label) / float(len(label))))\n",
        "\n",
        "\n",
        "def sklearn_interface():\n",
        "    X_train, y_train = load_svmlight_file(train)\n",
        "    X_test, y_test = load_svmlight_file(test)\n",
        "    clf = xgb.XGBClassifier(n_estimators=3, max_depth=2, eta=1, use_label_encoder=False)\n",
        "    clf.fit(X_train, y_train, eval_set=[(X_test, y_test)])\n",
        "    assert clf.n_classes_ == 2\n",
        "\n",
        "    print(\"start testing prediction from first n trees\")\n",
        "    # predict using first 1 tree\n",
        "    ypred1 = clf.predict(X_test, iteration_range=(0, 1))\n",
        "    # by default, we predict using all the trees\n",
        "    ypred2 = clf.predict(X_test)\n",
        "\n",
        "    print(\n",
        "        \"error of ypred1=%f\" % (np.sum((ypred1 > 0.5) != y_test) / float(len(y_test)))\n",
        "    )\n",
        "    print(\n",
        "        \"error of ypred2=%f\" % (np.sum((ypred2 > 0.5) != y_test) / float(len(y_test)))\n",
        "    )\n",
        "\n",
        "\n",
        "if __name__ == \"__main__\":\n",
        "    native_interface()\n",
        "    sklearn_interface()"
      ],
      "execution_count": 2,
      "outputs": [
        {
          "output_type": "error",
          "ename": "NameError",
          "evalue": "ignored",
          "traceback": [
            "\u001b[0;31m---------------------------------------------------------------------------\u001b[0m",
            "\u001b[0;31mNameError\u001b[0m                                 Traceback (most recent call last)",
            "\u001b[0;32m<ipython-input-2-aafc23766ee8>\u001b[0m in \u001b[0;36m<module>\u001b[0;34m()\u001b[0m\n\u001b[1;32m      5\u001b[0m \u001b[0;34m\u001b[0m\u001b[0m\n\u001b[1;32m      6\u001b[0m \u001b[0;31m#CURRENT_DIR = os.path.dirname(__file__)\u001b[0m\u001b[0;34m\u001b[0m\u001b[0;34m\u001b[0m\u001b[0;34m\u001b[0m\u001b[0m\n\u001b[0;32m----> 7\u001b[0;31m \u001b[0mtrain\u001b[0m \u001b[0;34m=\u001b[0m \u001b[0mos\u001b[0m\u001b[0;34m.\u001b[0m\u001b[0mpath\u001b[0m\u001b[0;34m.\u001b[0m\u001b[0mjoin\u001b[0m\u001b[0;34m(\u001b[0m\u001b[0mCURRENT_DIR\u001b[0m\u001b[0;34m,\u001b[0m \u001b[0;34m\"../data/agaricus.txt.train\"\u001b[0m\u001b[0;34m)\u001b[0m\u001b[0;34m\u001b[0m\u001b[0;34m\u001b[0m\u001b[0m\n\u001b[0m\u001b[1;32m      8\u001b[0m \u001b[0mtest\u001b[0m \u001b[0;34m=\u001b[0m \u001b[0mos\u001b[0m\u001b[0;34m.\u001b[0m\u001b[0mpath\u001b[0m\u001b[0;34m.\u001b[0m\u001b[0mjoin\u001b[0m\u001b[0;34m(\u001b[0m\u001b[0mCURRENT_DIR\u001b[0m\u001b[0;34m,\u001b[0m \u001b[0;34m\"../data/agaricus.txt.test\"\u001b[0m\u001b[0;34m)\u001b[0m\u001b[0;34m\u001b[0m\u001b[0;34m\u001b[0m\u001b[0m\n\u001b[1;32m      9\u001b[0m \u001b[0;34m\u001b[0m\u001b[0m\n",
            "\u001b[0;31mNameError\u001b[0m: name 'CURRENT_DIR' is not defined"
          ]
        }
      ]
    },
    {
      "cell_type": "code",
      "metadata": {
        "colab": {
          "base_uri": "https://localhost:8080/",
          "height": 231
        },
        "id": "CAV7sdAYOdNy",
        "outputId": "6e676f92-a521-48ec-b8e9-d0272d12e042"
      },
      "source": [
        "import os\n",
        "import xgboost as xgb\n",
        "\n",
        "\n",
        "CURRENT_DIR = os.path.dirname(__file__)\n",
        "dtrain = xgb.DMatrix(os.path.join(CURRENT_DIR, '../data/agaricus.txt.train'))\n",
        "dtest = xgb.DMatrix(os.path.join(CURRENT_DIR, '../data/agaricus.txt.test'))\n",
        "watchlist = [(dtest, 'eval'), (dtrain, 'train')]\n",
        "###\n",
        "# advanced: start from a initial base prediction\n",
        "#\n",
        "print('start running example to start from a initial prediction')\n",
        "# specify parameters via map, definition are same as c++ version\n",
        "param = {'max_depth': 2, 'eta': 1, 'objective': 'binary:logistic'}\n",
        "# train xgboost for 1 round\n",
        "bst = xgb.train(param, dtrain, 1, watchlist)\n",
        "# Note: we need the margin value instead of transformed prediction in\n",
        "# set_base_margin\n",
        "# do predict with output_margin=True, will always give you margin values\n",
        "# before logistic transformation\n",
        "ptrain = bst.predict(dtrain, output_margin=True)\n",
        "ptest = bst.predict(dtest, output_margin=True)\n",
        "dtrain.set_base_margin(ptrain)\n",
        "dtest.set_base_margin(ptest)\n",
        "\n",
        "print('this is result of running from initial prediction')\n",
        "bst = xgb.train(param, dtrain, 1, watchlist)"
      ],
      "execution_count": 3,
      "outputs": [
        {
          "output_type": "error",
          "ename": "NameError",
          "evalue": "ignored",
          "traceback": [
            "\u001b[0;31m---------------------------------------------------------------------------\u001b[0m",
            "\u001b[0;31mNameError\u001b[0m                                 Traceback (most recent call last)",
            "\u001b[0;32m<ipython-input-3-fa1b19c8bcda>\u001b[0m in \u001b[0;36m<module>\u001b[0;34m()\u001b[0m\n\u001b[1;32m      3\u001b[0m \u001b[0;34m\u001b[0m\u001b[0m\n\u001b[1;32m      4\u001b[0m \u001b[0;34m\u001b[0m\u001b[0m\n\u001b[0;32m----> 5\u001b[0;31m \u001b[0mCURRENT_DIR\u001b[0m \u001b[0;34m=\u001b[0m \u001b[0mos\u001b[0m\u001b[0;34m.\u001b[0m\u001b[0mpath\u001b[0m\u001b[0;34m.\u001b[0m\u001b[0mdirname\u001b[0m\u001b[0;34m(\u001b[0m\u001b[0m__file__\u001b[0m\u001b[0;34m)\u001b[0m\u001b[0;34m\u001b[0m\u001b[0;34m\u001b[0m\u001b[0m\n\u001b[0m\u001b[1;32m      6\u001b[0m \u001b[0mdtrain\u001b[0m \u001b[0;34m=\u001b[0m \u001b[0mxgb\u001b[0m\u001b[0;34m.\u001b[0m\u001b[0mDMatrix\u001b[0m\u001b[0;34m(\u001b[0m\u001b[0mos\u001b[0m\u001b[0;34m.\u001b[0m\u001b[0mpath\u001b[0m\u001b[0;34m.\u001b[0m\u001b[0mjoin\u001b[0m\u001b[0;34m(\u001b[0m\u001b[0mCURRENT_DIR\u001b[0m\u001b[0;34m,\u001b[0m \u001b[0;34m'../data/agaricus.txt.train'\u001b[0m\u001b[0;34m)\u001b[0m\u001b[0;34m)\u001b[0m\u001b[0;34m\u001b[0m\u001b[0;34m\u001b[0m\u001b[0m\n\u001b[1;32m      7\u001b[0m \u001b[0mdtest\u001b[0m \u001b[0;34m=\u001b[0m \u001b[0mxgb\u001b[0m\u001b[0;34m.\u001b[0m\u001b[0mDMatrix\u001b[0m\u001b[0;34m(\u001b[0m\u001b[0mos\u001b[0m\u001b[0;34m.\u001b[0m\u001b[0mpath\u001b[0m\u001b[0;34m.\u001b[0m\u001b[0mjoin\u001b[0m\u001b[0;34m(\u001b[0m\u001b[0mCURRENT_DIR\u001b[0m\u001b[0;34m,\u001b[0m \u001b[0;34m'../data/agaricus.txt.test'\u001b[0m\u001b[0;34m)\u001b[0m\u001b[0;34m)\u001b[0m\u001b[0;34m\u001b[0m\u001b[0;34m\u001b[0m\u001b[0m\n",
            "\u001b[0;31mNameError\u001b[0m: name '__file__' is not defined"
          ]
        }
      ]
    }
  ]
}