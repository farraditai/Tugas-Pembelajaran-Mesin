{
  "metadata": {
    "kernelspec": {
      "display_name": "Python 3",
      "language": "python",
      "name": "python3"
    },
    "language_info": {
      "codemirror_mode": {
        "name": "ipython",
        "version": 3
      },
      "file_extension": ".py",
      "mimetype": "text/x-python",
      "name": "python",
      "nbconvert_exporter": "python",
      "pygments_lexer": "ipython3",
      "version": "3.7.0"
    },
    "colab": {
      "name": "Salinan dari Week 8 _ svm-classifier-tutorial.ipynb",
      "provenance": []
    }
  },
  "nbformat_minor": 0,
  "nbformat": 4,
  "cells": [
    {
      "cell_type": "markdown",
      "source": [
        "<a class=\"anchor\" id=\"0\"></a>\n",
        "# **Support Vector Machines Classifier Tutorial with Python** "
      ],
      "metadata": {
        "id": "J3KoDMCmZMqd"
      }
    },
    {
      "cell_type": "code",
      "source": [
        "## Import libraries\n",
        "\n",
        "import numpy as np # linear algebra\n",
        "import pandas as pd # data processing, CSV file I/O (e.g. pd.read_csv)\n",
        "import matplotlib.pyplot as plt # for data visualization\n",
        "import seaborn as sns # for statistical data visualization\n",
        "%matplotlib inline"
      ],
      "metadata": {
        "trusted": true,
        "id": "5aKj80yCZMsD"
      },
      "execution_count": 1,
      "outputs": []
    },
    {
      "cell_type": "code",
      "source": [
        "import warnings\n",
        "\n",
        "warnings.filterwarnings('ignore')"
      ],
      "metadata": {
        "trusted": true,
        "id": "T8FqO5quZMsJ"
      },
      "execution_count": 2,
      "outputs": []
    },
    {
      "cell_type": "code",
      "source": [
        "## import dataset\n",
        "data = 'UniversalBank.csv'\n",
        "\n",
        "df = pd.read_csv(data)"
      ],
      "metadata": {
        "trusted": true,
        "id": "JLUVxHO1ZMsM"
      },
      "execution_count": 3,
      "outputs": []
    },
    {
      "cell_type": "code",
      "source": [
        "# view dimensions of dataset\n",
        "\n",
        "df.shape"
      ],
      "metadata": {
        "trusted": true,
        "colab": {
          "base_uri": "https://localhost:8080/"
        },
        "id": "ygVoH8u7ZMsX",
        "outputId": "9462995b-97d5-4a5e-f844-e1c48406ac00"
      },
      "execution_count": 4,
      "outputs": [
        {
          "output_type": "execute_result",
          "data": {
            "text/plain": [
              "(5000, 14)"
            ]
          },
          "metadata": {},
          "execution_count": 4
        }
      ]
    },
    {
      "cell_type": "code",
      "source": [
        "# let's preview the dataset\n",
        "\n",
        "df.head()"
      ],
      "metadata": {
        "scrolled": true,
        "trusted": true,
        "colab": {
          "base_uri": "https://localhost:8080/",
          "height": 288
        },
        "id": "EXOSAzsOZMsk",
        "outputId": "72f48e1f-404e-45da-d837-04d6aa33d0da"
      },
      "execution_count": 5,
      "outputs": [
        {
          "output_type": "execute_result",
          "data": {
            "text/html": [
              "\n",
              "  <div id=\"df-f6966948-d8d5-4595-863e-dc5dca5e778b\">\n",
              "    <div class=\"colab-df-container\">\n",
              "      <div>\n",
              "<style scoped>\n",
              "    .dataframe tbody tr th:only-of-type {\n",
              "        vertical-align: middle;\n",
              "    }\n",
              "\n",
              "    .dataframe tbody tr th {\n",
              "        vertical-align: top;\n",
              "    }\n",
              "\n",
              "    .dataframe thead th {\n",
              "        text-align: right;\n",
              "    }\n",
              "</style>\n",
              "<table border=\"1\" class=\"dataframe\">\n",
              "  <thead>\n",
              "    <tr style=\"text-align: right;\">\n",
              "      <th></th>\n",
              "      <th>ID</th>\n",
              "      <th>Age</th>\n",
              "      <th>Experience</th>\n",
              "      <th>Income</th>\n",
              "      <th>ZIP Code</th>\n",
              "      <th>Family</th>\n",
              "      <th>CCAvg</th>\n",
              "      <th>Education</th>\n",
              "      <th>Mortgage</th>\n",
              "      <th>Personal Loan</th>\n",
              "      <th>Securities Account</th>\n",
              "      <th>CD Account</th>\n",
              "      <th>Online</th>\n",
              "      <th>CreditCard</th>\n",
              "    </tr>\n",
              "  </thead>\n",
              "  <tbody>\n",
              "    <tr>\n",
              "      <th>0</th>\n",
              "      <td>1</td>\n",
              "      <td>25</td>\n",
              "      <td>1</td>\n",
              "      <td>49</td>\n",
              "      <td>91107</td>\n",
              "      <td>4</td>\n",
              "      <td>1.6</td>\n",
              "      <td>1</td>\n",
              "      <td>0</td>\n",
              "      <td>0</td>\n",
              "      <td>1</td>\n",
              "      <td>0</td>\n",
              "      <td>0</td>\n",
              "      <td>0</td>\n",
              "    </tr>\n",
              "    <tr>\n",
              "      <th>1</th>\n",
              "      <td>2</td>\n",
              "      <td>45</td>\n",
              "      <td>19</td>\n",
              "      <td>34</td>\n",
              "      <td>90089</td>\n",
              "      <td>3</td>\n",
              "      <td>1.5</td>\n",
              "      <td>1</td>\n",
              "      <td>0</td>\n",
              "      <td>0</td>\n",
              "      <td>1</td>\n",
              "      <td>0</td>\n",
              "      <td>0</td>\n",
              "      <td>0</td>\n",
              "    </tr>\n",
              "    <tr>\n",
              "      <th>2</th>\n",
              "      <td>3</td>\n",
              "      <td>39</td>\n",
              "      <td>15</td>\n",
              "      <td>11</td>\n",
              "      <td>94720</td>\n",
              "      <td>1</td>\n",
              "      <td>1.0</td>\n",
              "      <td>1</td>\n",
              "      <td>0</td>\n",
              "      <td>0</td>\n",
              "      <td>0</td>\n",
              "      <td>0</td>\n",
              "      <td>0</td>\n",
              "      <td>0</td>\n",
              "    </tr>\n",
              "    <tr>\n",
              "      <th>3</th>\n",
              "      <td>4</td>\n",
              "      <td>35</td>\n",
              "      <td>9</td>\n",
              "      <td>100</td>\n",
              "      <td>94112</td>\n",
              "      <td>1</td>\n",
              "      <td>2.7</td>\n",
              "      <td>2</td>\n",
              "      <td>0</td>\n",
              "      <td>0</td>\n",
              "      <td>0</td>\n",
              "      <td>0</td>\n",
              "      <td>0</td>\n",
              "      <td>0</td>\n",
              "    </tr>\n",
              "    <tr>\n",
              "      <th>4</th>\n",
              "      <td>5</td>\n",
              "      <td>35</td>\n",
              "      <td>8</td>\n",
              "      <td>45</td>\n",
              "      <td>91330</td>\n",
              "      <td>4</td>\n",
              "      <td>1.0</td>\n",
              "      <td>2</td>\n",
              "      <td>0</td>\n",
              "      <td>0</td>\n",
              "      <td>0</td>\n",
              "      <td>0</td>\n",
              "      <td>0</td>\n",
              "      <td>1</td>\n",
              "    </tr>\n",
              "  </tbody>\n",
              "</table>\n",
              "</div>\n",
              "      <button class=\"colab-df-convert\" onclick=\"convertToInteractive('df-f6966948-d8d5-4595-863e-dc5dca5e778b')\"\n",
              "              title=\"Convert this dataframe to an interactive table.\"\n",
              "              style=\"display:none;\">\n",
              "        \n",
              "  <svg xmlns=\"http://www.w3.org/2000/svg\" height=\"24px\"viewBox=\"0 0 24 24\"\n",
              "       width=\"24px\">\n",
              "    <path d=\"M0 0h24v24H0V0z\" fill=\"none\"/>\n",
              "    <path d=\"M18.56 5.44l.94 2.06.94-2.06 2.06-.94-2.06-.94-.94-2.06-.94 2.06-2.06.94zm-11 1L8.5 8.5l.94-2.06 2.06-.94-2.06-.94L8.5 2.5l-.94 2.06-2.06.94zm10 10l.94 2.06.94-2.06 2.06-.94-2.06-.94-.94-2.06-.94 2.06-2.06.94z\"/><path d=\"M17.41 7.96l-1.37-1.37c-.4-.4-.92-.59-1.43-.59-.52 0-1.04.2-1.43.59L10.3 9.45l-7.72 7.72c-.78.78-.78 2.05 0 2.83L4 21.41c.39.39.9.59 1.41.59.51 0 1.02-.2 1.41-.59l7.78-7.78 2.81-2.81c.8-.78.8-2.07 0-2.86zM5.41 20L4 18.59l7.72-7.72 1.47 1.35L5.41 20z\"/>\n",
              "  </svg>\n",
              "      </button>\n",
              "      \n",
              "  <style>\n",
              "    .colab-df-container {\n",
              "      display:flex;\n",
              "      flex-wrap:wrap;\n",
              "      gap: 12px;\n",
              "    }\n",
              "\n",
              "    .colab-df-convert {\n",
              "      background-color: #E8F0FE;\n",
              "      border: none;\n",
              "      border-radius: 50%;\n",
              "      cursor: pointer;\n",
              "      display: none;\n",
              "      fill: #1967D2;\n",
              "      height: 32px;\n",
              "      padding: 0 0 0 0;\n",
              "      width: 32px;\n",
              "    }\n",
              "\n",
              "    .colab-df-convert:hover {\n",
              "      background-color: #E2EBFA;\n",
              "      box-shadow: 0px 1px 2px rgba(60, 64, 67, 0.3), 0px 1px 3px 1px rgba(60, 64, 67, 0.15);\n",
              "      fill: #174EA6;\n",
              "    }\n",
              "\n",
              "    [theme=dark] .colab-df-convert {\n",
              "      background-color: #3B4455;\n",
              "      fill: #D2E3FC;\n",
              "    }\n",
              "\n",
              "    [theme=dark] .colab-df-convert:hover {\n",
              "      background-color: #434B5C;\n",
              "      box-shadow: 0px 1px 3px 1px rgba(0, 0, 0, 0.15);\n",
              "      filter: drop-shadow(0px 1px 2px rgba(0, 0, 0, 0.3));\n",
              "      fill: #FFFFFF;\n",
              "    }\n",
              "  </style>\n",
              "\n",
              "      <script>\n",
              "        const buttonEl =\n",
              "          document.querySelector('#df-f6966948-d8d5-4595-863e-dc5dca5e778b button.colab-df-convert');\n",
              "        buttonEl.style.display =\n",
              "          google.colab.kernel.accessAllowed ? 'block' : 'none';\n",
              "\n",
              "        async function convertToInteractive(key) {\n",
              "          const element = document.querySelector('#df-f6966948-d8d5-4595-863e-dc5dca5e778b');\n",
              "          const dataTable =\n",
              "            await google.colab.kernel.invokeFunction('convertToInteractive',\n",
              "                                                     [key], {});\n",
              "          if (!dataTable) return;\n",
              "\n",
              "          const docLinkHtml = 'Like what you see? Visit the ' +\n",
              "            '<a target=\"_blank\" href=https://colab.research.google.com/notebooks/data_table.ipynb>data table notebook</a>'\n",
              "            + ' to learn more about interactive tables.';\n",
              "          element.innerHTML = '';\n",
              "          dataTable['output_type'] = 'display_data';\n",
              "          await google.colab.output.renderOutput(dataTable, element);\n",
              "          const docLink = document.createElement('div');\n",
              "          docLink.innerHTML = docLinkHtml;\n",
              "          element.appendChild(docLink);\n",
              "        }\n",
              "      </script>\n",
              "    </div>\n",
              "  </div>\n",
              "  "
            ],
            "text/plain": [
              "   ID  Age  Experience  ...  CD Account  Online  CreditCard\n",
              "0   1   25           1  ...           0       0           0\n",
              "1   2   45          19  ...           0       0           0\n",
              "2   3   39          15  ...           0       0           0\n",
              "3   4   35           9  ...           0       0           0\n",
              "4   5   35           8  ...           0       0           1\n",
              "\n",
              "[5 rows x 14 columns]"
            ]
          },
          "metadata": {},
          "execution_count": 5
        }
      ]
    },
    {
      "cell_type": "code",
      "source": [
        "# view the column names of the dataframe\n",
        "\n",
        "col_names = df.columns\n",
        "\n",
        "col_names"
      ],
      "metadata": {
        "trusted": true,
        "colab": {
          "base_uri": "https://localhost:8080/"
        },
        "id": "BESq-18GZMsm",
        "outputId": "65fbb4fb-e9c4-43e6-a222-eb1ac06bcc50"
      },
      "execution_count": 6,
      "outputs": [
        {
          "output_type": "execute_result",
          "data": {
            "text/plain": [
              "Index(['ID', 'Age', 'Experience', 'Income', 'ZIP Code', 'Family', 'CCAvg',\n",
              "       'Education', 'Mortgage', 'Personal Loan', 'Securities Account',\n",
              "       'CD Account', 'Online', 'CreditCard'],\n",
              "      dtype='object')"
            ]
          },
          "metadata": {},
          "execution_count": 6
        }
      ]
    },
    {
      "cell_type": "code",
      "source": [
        "# remove leading spaces from column names\n",
        "\n",
        "df.columns = df.columns.str.strip()"
      ],
      "metadata": {
        "trusted": true,
        "id": "fFriLrg6ZMsq"
      },
      "execution_count": 7,
      "outputs": []
    },
    {
      "cell_type": "code",
      "source": [
        "# view column names again\n",
        "\n",
        "df.columns"
      ],
      "metadata": {
        "trusted": true,
        "colab": {
          "base_uri": "https://localhost:8080/"
        },
        "id": "lWS3JJ9OZMsx",
        "outputId": "e9d49609-9827-4fe2-cc7c-1a798218d2b7"
      },
      "execution_count": 8,
      "outputs": [
        {
          "output_type": "execute_result",
          "data": {
            "text/plain": [
              "Index(['ID', 'Age', 'Experience', 'Income', 'ZIP Code', 'Family', 'CCAvg',\n",
              "       'Education', 'Mortgage', 'Personal Loan', 'Securities Account',\n",
              "       'CD Account', 'Online', 'CreditCard'],\n",
              "      dtype='object')"
            ]
          },
          "metadata": {},
          "execution_count": 8
        }
      ]
    },
    {
      "cell_type": "code",
      "source": [
        "# check distribution of target_class column\n",
        "\n",
        "df['CreditCard'].value_counts()"
      ],
      "metadata": {
        "trusted": true,
        "colab": {
          "base_uri": "https://localhost:8080/"
        },
        "id": "jnBnBbpiZMs5",
        "outputId": "d020477b-2092-4642-efbf-a16e54822979"
      },
      "execution_count": 9,
      "outputs": [
        {
          "output_type": "execute_result",
          "data": {
            "text/plain": [
              "0    3530\n",
              "1    1470\n",
              "Name: CreditCard, dtype: int64"
            ]
          },
          "metadata": {},
          "execution_count": 9
        }
      ]
    },
    {
      "cell_type": "code",
      "source": [
        "# view the percentage distribution of target_class column\n",
        "\n",
        "df['CreditCard'].value_counts()/np.float(len(df))"
      ],
      "metadata": {
        "trusted": true,
        "colab": {
          "base_uri": "https://localhost:8080/"
        },
        "id": "nFS496YoZMs6",
        "outputId": "505e56d9-7942-4ad9-baf9-a95163f954da"
      },
      "execution_count": 10,
      "outputs": [
        {
          "output_type": "execute_result",
          "data": {
            "text/plain": [
              "0    0.706\n",
              "1    0.294\n",
              "Name: CreditCard, dtype: float64"
            ]
          },
          "metadata": {},
          "execution_count": 10
        }
      ]
    },
    {
      "cell_type": "code",
      "source": [
        "# view summary of dataset\n",
        "\n",
        "df.info()"
      ],
      "metadata": {
        "trusted": true,
        "colab": {
          "base_uri": "https://localhost:8080/"
        },
        "id": "PetinaXQZMtJ",
        "outputId": "5dd3b0b4-5cdd-4caa-ad11-8abd14bddd9b"
      },
      "execution_count": 11,
      "outputs": [
        {
          "output_type": "stream",
          "name": "stdout",
          "text": [
            "<class 'pandas.core.frame.DataFrame'>\n",
            "RangeIndex: 5000 entries, 0 to 4999\n",
            "Data columns (total 14 columns):\n",
            " #   Column              Non-Null Count  Dtype  \n",
            "---  ------              --------------  -----  \n",
            " 0   ID                  5000 non-null   int64  \n",
            " 1   Age                 5000 non-null   int64  \n",
            " 2   Experience          5000 non-null   int64  \n",
            " 3   Income              5000 non-null   int64  \n",
            " 4   ZIP Code            5000 non-null   int64  \n",
            " 5   Family              5000 non-null   int64  \n",
            " 6   CCAvg               5000 non-null   float64\n",
            " 7   Education           5000 non-null   int64  \n",
            " 8   Mortgage            5000 non-null   int64  \n",
            " 9   Personal Loan       5000 non-null   int64  \n",
            " 10  Securities Account  5000 non-null   int64  \n",
            " 11  CD Account          5000 non-null   int64  \n",
            " 12  Online              5000 non-null   int64  \n",
            " 13  CreditCard          5000 non-null   int64  \n",
            "dtypes: float64(1), int64(13)\n",
            "memory usage: 547.0 KB\n"
          ]
        }
      ]
    },
    {
      "cell_type": "markdown",
      "source": [
        "### Explore missing values in variables"
      ],
      "metadata": {
        "id": "PA-n5j5qZMtN"
      }
    },
    {
      "cell_type": "code",
      "source": [
        "# check for missing values in variables\n",
        "\n",
        "df.isnull().sum()"
      ],
      "metadata": {
        "trusted": true,
        "colab": {
          "base_uri": "https://localhost:8080/"
        },
        "id": "nbJD3nySZMtP",
        "outputId": "f94bc3ff-7830-45de-cb52-514661a96286"
      },
      "execution_count": 12,
      "outputs": [
        {
          "output_type": "execute_result",
          "data": {
            "text/plain": [
              "ID                    0\n",
              "Age                   0\n",
              "Experience            0\n",
              "Income                0\n",
              "ZIP Code              0\n",
              "Family                0\n",
              "CCAvg                 0\n",
              "Education             0\n",
              "Mortgage              0\n",
              "Personal Loan         0\n",
              "Securities Account    0\n",
              "CD Account            0\n",
              "Online                0\n",
              "CreditCard            0\n",
              "dtype: int64"
            ]
          },
          "metadata": {},
          "execution_count": 12
        }
      ]
    },
    {
      "cell_type": "markdown",
      "source": [
        "### Outliers in numerical variables"
      ],
      "metadata": {
        "id": "whuSH-rgZMtU"
      }
    },
    {
      "cell_type": "code",
      "source": [
        "# view summary statistics in numerical variables\n",
        "\n",
        "round(df.describe(),2)"
      ],
      "metadata": {
        "trusted": true,
        "colab": {
          "base_uri": "https://localhost:8080/",
          "height": 382
        },
        "id": "5JZnSx_gZMtV",
        "outputId": "7373372a-9107-475b-fee6-8b6abea3d2ce"
      },
      "execution_count": 13,
      "outputs": [
        {
          "output_type": "execute_result",
          "data": {
            "text/html": [
              "\n",
              "  <div id=\"df-a8e7c8e3-50d9-499d-9291-482c7c5c3130\">\n",
              "    <div class=\"colab-df-container\">\n",
              "      <div>\n",
              "<style scoped>\n",
              "    .dataframe tbody tr th:only-of-type {\n",
              "        vertical-align: middle;\n",
              "    }\n",
              "\n",
              "    .dataframe tbody tr th {\n",
              "        vertical-align: top;\n",
              "    }\n",
              "\n",
              "    .dataframe thead th {\n",
              "        text-align: right;\n",
              "    }\n",
              "</style>\n",
              "<table border=\"1\" class=\"dataframe\">\n",
              "  <thead>\n",
              "    <tr style=\"text-align: right;\">\n",
              "      <th></th>\n",
              "      <th>ID</th>\n",
              "      <th>Age</th>\n",
              "      <th>Experience</th>\n",
              "      <th>Income</th>\n",
              "      <th>ZIP Code</th>\n",
              "      <th>Family</th>\n",
              "      <th>CCAvg</th>\n",
              "      <th>Education</th>\n",
              "      <th>Mortgage</th>\n",
              "      <th>Personal Loan</th>\n",
              "      <th>Securities Account</th>\n",
              "      <th>CD Account</th>\n",
              "      <th>Online</th>\n",
              "      <th>CreditCard</th>\n",
              "    </tr>\n",
              "  </thead>\n",
              "  <tbody>\n",
              "    <tr>\n",
              "      <th>count</th>\n",
              "      <td>5000.00</td>\n",
              "      <td>5000.00</td>\n",
              "      <td>5000.00</td>\n",
              "      <td>5000.00</td>\n",
              "      <td>5000.00</td>\n",
              "      <td>5000.00</td>\n",
              "      <td>5000.00</td>\n",
              "      <td>5000.00</td>\n",
              "      <td>5000.00</td>\n",
              "      <td>5000.00</td>\n",
              "      <td>5000.00</td>\n",
              "      <td>5000.00</td>\n",
              "      <td>5000.00</td>\n",
              "      <td>5000.00</td>\n",
              "    </tr>\n",
              "    <tr>\n",
              "      <th>mean</th>\n",
              "      <td>2500.50</td>\n",
              "      <td>45.34</td>\n",
              "      <td>20.10</td>\n",
              "      <td>73.77</td>\n",
              "      <td>93152.50</td>\n",
              "      <td>2.40</td>\n",
              "      <td>1.94</td>\n",
              "      <td>1.88</td>\n",
              "      <td>56.50</td>\n",
              "      <td>0.10</td>\n",
              "      <td>0.10</td>\n",
              "      <td>0.06</td>\n",
              "      <td>0.60</td>\n",
              "      <td>0.29</td>\n",
              "    </tr>\n",
              "    <tr>\n",
              "      <th>std</th>\n",
              "      <td>1443.52</td>\n",
              "      <td>11.46</td>\n",
              "      <td>11.47</td>\n",
              "      <td>46.03</td>\n",
              "      <td>2121.85</td>\n",
              "      <td>1.15</td>\n",
              "      <td>1.75</td>\n",
              "      <td>0.84</td>\n",
              "      <td>101.71</td>\n",
              "      <td>0.29</td>\n",
              "      <td>0.31</td>\n",
              "      <td>0.24</td>\n",
              "      <td>0.49</td>\n",
              "      <td>0.46</td>\n",
              "    </tr>\n",
              "    <tr>\n",
              "      <th>min</th>\n",
              "      <td>1.00</td>\n",
              "      <td>23.00</td>\n",
              "      <td>-3.00</td>\n",
              "      <td>8.00</td>\n",
              "      <td>9307.00</td>\n",
              "      <td>1.00</td>\n",
              "      <td>0.00</td>\n",
              "      <td>1.00</td>\n",
              "      <td>0.00</td>\n",
              "      <td>0.00</td>\n",
              "      <td>0.00</td>\n",
              "      <td>0.00</td>\n",
              "      <td>0.00</td>\n",
              "      <td>0.00</td>\n",
              "    </tr>\n",
              "    <tr>\n",
              "      <th>25%</th>\n",
              "      <td>1250.75</td>\n",
              "      <td>35.00</td>\n",
              "      <td>10.00</td>\n",
              "      <td>39.00</td>\n",
              "      <td>91911.00</td>\n",
              "      <td>1.00</td>\n",
              "      <td>0.70</td>\n",
              "      <td>1.00</td>\n",
              "      <td>0.00</td>\n",
              "      <td>0.00</td>\n",
              "      <td>0.00</td>\n",
              "      <td>0.00</td>\n",
              "      <td>0.00</td>\n",
              "      <td>0.00</td>\n",
              "    </tr>\n",
              "    <tr>\n",
              "      <th>50%</th>\n",
              "      <td>2500.50</td>\n",
              "      <td>45.00</td>\n",
              "      <td>20.00</td>\n",
              "      <td>64.00</td>\n",
              "      <td>93437.00</td>\n",
              "      <td>2.00</td>\n",
              "      <td>1.50</td>\n",
              "      <td>2.00</td>\n",
              "      <td>0.00</td>\n",
              "      <td>0.00</td>\n",
              "      <td>0.00</td>\n",
              "      <td>0.00</td>\n",
              "      <td>1.00</td>\n",
              "      <td>0.00</td>\n",
              "    </tr>\n",
              "    <tr>\n",
              "      <th>75%</th>\n",
              "      <td>3750.25</td>\n",
              "      <td>55.00</td>\n",
              "      <td>30.00</td>\n",
              "      <td>98.00</td>\n",
              "      <td>94608.00</td>\n",
              "      <td>3.00</td>\n",
              "      <td>2.50</td>\n",
              "      <td>3.00</td>\n",
              "      <td>101.00</td>\n",
              "      <td>0.00</td>\n",
              "      <td>0.00</td>\n",
              "      <td>0.00</td>\n",
              "      <td>1.00</td>\n",
              "      <td>1.00</td>\n",
              "    </tr>\n",
              "    <tr>\n",
              "      <th>max</th>\n",
              "      <td>5000.00</td>\n",
              "      <td>67.00</td>\n",
              "      <td>43.00</td>\n",
              "      <td>224.00</td>\n",
              "      <td>96651.00</td>\n",
              "      <td>4.00</td>\n",
              "      <td>10.00</td>\n",
              "      <td>3.00</td>\n",
              "      <td>635.00</td>\n",
              "      <td>1.00</td>\n",
              "      <td>1.00</td>\n",
              "      <td>1.00</td>\n",
              "      <td>1.00</td>\n",
              "      <td>1.00</td>\n",
              "    </tr>\n",
              "  </tbody>\n",
              "</table>\n",
              "</div>\n",
              "      <button class=\"colab-df-convert\" onclick=\"convertToInteractive('df-a8e7c8e3-50d9-499d-9291-482c7c5c3130')\"\n",
              "              title=\"Convert this dataframe to an interactive table.\"\n",
              "              style=\"display:none;\">\n",
              "        \n",
              "  <svg xmlns=\"http://www.w3.org/2000/svg\" height=\"24px\"viewBox=\"0 0 24 24\"\n",
              "       width=\"24px\">\n",
              "    <path d=\"M0 0h24v24H0V0z\" fill=\"none\"/>\n",
              "    <path d=\"M18.56 5.44l.94 2.06.94-2.06 2.06-.94-2.06-.94-.94-2.06-.94 2.06-2.06.94zm-11 1L8.5 8.5l.94-2.06 2.06-.94-2.06-.94L8.5 2.5l-.94 2.06-2.06.94zm10 10l.94 2.06.94-2.06 2.06-.94-2.06-.94-.94-2.06-.94 2.06-2.06.94z\"/><path d=\"M17.41 7.96l-1.37-1.37c-.4-.4-.92-.59-1.43-.59-.52 0-1.04.2-1.43.59L10.3 9.45l-7.72 7.72c-.78.78-.78 2.05 0 2.83L4 21.41c.39.39.9.59 1.41.59.51 0 1.02-.2 1.41-.59l7.78-7.78 2.81-2.81c.8-.78.8-2.07 0-2.86zM5.41 20L4 18.59l7.72-7.72 1.47 1.35L5.41 20z\"/>\n",
              "  </svg>\n",
              "      </button>\n",
              "      \n",
              "  <style>\n",
              "    .colab-df-container {\n",
              "      display:flex;\n",
              "      flex-wrap:wrap;\n",
              "      gap: 12px;\n",
              "    }\n",
              "\n",
              "    .colab-df-convert {\n",
              "      background-color: #E8F0FE;\n",
              "      border: none;\n",
              "      border-radius: 50%;\n",
              "      cursor: pointer;\n",
              "      display: none;\n",
              "      fill: #1967D2;\n",
              "      height: 32px;\n",
              "      padding: 0 0 0 0;\n",
              "      width: 32px;\n",
              "    }\n",
              "\n",
              "    .colab-df-convert:hover {\n",
              "      background-color: #E2EBFA;\n",
              "      box-shadow: 0px 1px 2px rgba(60, 64, 67, 0.3), 0px 1px 3px 1px rgba(60, 64, 67, 0.15);\n",
              "      fill: #174EA6;\n",
              "    }\n",
              "\n",
              "    [theme=dark] .colab-df-convert {\n",
              "      background-color: #3B4455;\n",
              "      fill: #D2E3FC;\n",
              "    }\n",
              "\n",
              "    [theme=dark] .colab-df-convert:hover {\n",
              "      background-color: #434B5C;\n",
              "      box-shadow: 0px 1px 3px 1px rgba(0, 0, 0, 0.15);\n",
              "      filter: drop-shadow(0px 1px 2px rgba(0, 0, 0, 0.3));\n",
              "      fill: #FFFFFF;\n",
              "    }\n",
              "  </style>\n",
              "\n",
              "      <script>\n",
              "        const buttonEl =\n",
              "          document.querySelector('#df-a8e7c8e3-50d9-499d-9291-482c7c5c3130 button.colab-df-convert');\n",
              "        buttonEl.style.display =\n",
              "          google.colab.kernel.accessAllowed ? 'block' : 'none';\n",
              "\n",
              "        async function convertToInteractive(key) {\n",
              "          const element = document.querySelector('#df-a8e7c8e3-50d9-499d-9291-482c7c5c3130');\n",
              "          const dataTable =\n",
              "            await google.colab.kernel.invokeFunction('convertToInteractive',\n",
              "                                                     [key], {});\n",
              "          if (!dataTable) return;\n",
              "\n",
              "          const docLinkHtml = 'Like what you see? Visit the ' +\n",
              "            '<a target=\"_blank\" href=https://colab.research.google.com/notebooks/data_table.ipynb>data table notebook</a>'\n",
              "            + ' to learn more about interactive tables.';\n",
              "          element.innerHTML = '';\n",
              "          dataTable['output_type'] = 'display_data';\n",
              "          await google.colab.output.renderOutput(dataTable, element);\n",
              "          const docLink = document.createElement('div');\n",
              "          docLink.innerHTML = docLinkHtml;\n",
              "          element.appendChild(docLink);\n",
              "        }\n",
              "      </script>\n",
              "    </div>\n",
              "  </div>\n",
              "  "
            ],
            "text/plain": [
              "            ID      Age  Experience  ...  CD Account   Online  CreditCard\n",
              "count  5000.00  5000.00     5000.00  ...     5000.00  5000.00     5000.00\n",
              "mean   2500.50    45.34       20.10  ...        0.06     0.60        0.29\n",
              "std    1443.52    11.46       11.47  ...        0.24     0.49        0.46\n",
              "min       1.00    23.00       -3.00  ...        0.00     0.00        0.00\n",
              "25%    1250.75    35.00       10.00  ...        0.00     0.00        0.00\n",
              "50%    2500.50    45.00       20.00  ...        0.00     1.00        0.00\n",
              "75%    3750.25    55.00       30.00  ...        0.00     1.00        1.00\n",
              "max    5000.00    67.00       43.00  ...        1.00     1.00        1.00\n",
              "\n",
              "[8 rows x 14 columns]"
            ]
          },
          "metadata": {},
          "execution_count": 13
        }
      ]
    },
    {
      "cell_type": "code",
      "source": [
        "# draw boxplots to visualize outliers\n",
        "\n",
        "plt.figure(figsize=(24,20))\n",
        "\n",
        "\n",
        "plt.subplot(4, 2, 1)\n",
        "fig = df.boxplot(column='ID')\n",
        "fig.set_title('')\n",
        "fig.set_ylabel('ID')\n",
        "\n",
        "\n",
        "plt.subplot(4, 2, 2)\n",
        "fig = df.boxplot(column='Age')\n",
        "fig.set_title('')\n",
        "fig.set_ylabel('Age')\n",
        "\n",
        "\n",
        "plt.subplot(4, 2, 3)\n",
        "fig = df.boxplot(column='Experience')\n",
        "fig.set_title('')\n",
        "fig.set_ylabel('Experience')\n",
        "\n",
        "\n",
        "plt.subplot(4, 2, 4)\n",
        "fig = df.boxplot(column='Income')\n",
        "fig.set_title('')\n",
        "fig.set_ylabel('Income')\n",
        "\n",
        "plt.subplot(4, 2, 5)\n",
        "fig = df.boxplot(column='CCAvg')\n",
        "fig.set_title('')\n",
        "fig.set_ylabel('CCAvg')\n",
        "\n",
        "plt.subplot(4, 2, 6)\n",
        "fig = df.boxplot(column='CreditCard')\n",
        "fig.set_title('')\n",
        "fig.set_ylabel('CreditCard')"
      ],
      "metadata": {
        "trusted": true,
        "colab": {
          "base_uri": "https://localhost:8080/",
          "height": 409
        },
        "id": "3ZR72bOXZMtX",
        "outputId": "ec36b082-5e73-41a2-ae91-fd8ad865e316"
      },
      "execution_count": 14,
      "outputs": [
        {
          "output_type": "execute_result",
          "data": {
            "text/plain": [
              "Text(0, 0.5, 'CreditCard')"
            ]
          },
          "metadata": {},
          "execution_count": 14
        },
        {
          "output_type": "display_data",
          "data": {
            "image/png": "[encoded data removed]",
            "text/plain": [
              "<Figure size 1728x1440 with 6 Axes>"
            ]
          },
          "metadata": {
            "needs_background": "light"
          }
        }
      ]
    },
    {
      "cell_type": "markdown",
      "source": [
        "### Check the distribution of variables\n",
        "\n",
        "\n",
        "Now, I will plot the histograms to check distributions to find out if they are normal or skewed. "
      ],
      "metadata": {
        "id": "0EK-mz7sZMta"
      }
    },
    {
      "cell_type": "code",
      "source": [
        "# plot histogram to check distribution\n",
        "\n",
        "\n",
        "plt.figure(figsize=(24,20))\n",
        "\n",
        "\n",
        "plt.subplot(4, 2, 1)\n",
        "fig = df['ID'].hist(bins=20)\n",
        "fig.set_xlabel('ID')\n",
        "fig.set_ylabel('Number of pulsar stars')\n",
        "\n",
        "\n",
        "plt.subplot(4, 2, 2)\n",
        "fig = df['Age'].hist(bins=20)\n",
        "fig.set_xlabel('Age')\n",
        "fig.set_ylabel('Number of pulsar stars')\n",
        "\n",
        "plt.subplot(4, 2, 3)\n",
        "fig = df['Experience'].hist(bins=20)\n",
        "fig.set_xlabel('Experience')\n",
        "fig.set_ylabel('Number of pulsar stars')\n",
        "\n",
        "plt.subplot(4, 2, 4)\n",
        "fig = df['Income'].hist(bins=20)\n",
        "fig.set_xlabel('Income')\n",
        "fig.set_ylabel('Number of pulsar stars')\n",
        "\n",
        "plt.subplot(4, 2, 5)\n",
        "fig = df['CCAvg'].hist(bins=20)\n",
        "fig.set_xlabel('CCAvg')\n",
        "fig.set_ylabel('Number of pulsar stars')\n",
        "\n",
        "plt.subplot(4, 2, 6)\n",
        "fig = df['CreditCard'].hist(bins=20)\n",
        "fig.set_xlabel('CreditCard')\n",
        "fig.set_ylabel('Number of pulsar stars')"
      ],
      "metadata": {
        "trusted": true,
        "colab": {
          "base_uri": "https://localhost:8080/",
          "height": 417
        },
        "id": "jjRHpv_mZMtb",
        "outputId": "b97b51d0-89f3-4df6-980c-f7eebf378495"
      },
      "execution_count": 15,
      "outputs": [
        {
          "output_type": "execute_result",
          "data": {
            "text/plain": [
              "Text(0, 0.5, 'Number of pulsar stars')"
            ]
          },
          "metadata": {},
          "execution_count": 15
        },
        {
          "output_type": "display_data",
          "data": {
            "image/png": "[encoded data removed]",
            "text/plain": [
              "<Figure size 1728x1440 with 6 Axes>"
            ]
          },
          "metadata": {
            "needs_background": "light"
          }
        }
      ]
    },
    {
      "cell_type": "code",
      "source": [
        "X = df.drop(['CreditCard'], axis=1)\n",
        "\n",
        "y = df['CreditCard']"
      ],
      "metadata": {
        "trusted": true,
        "id": "KBVh5PPFZMtm"
      },
      "execution_count": 16,
      "outputs": []
    },
    {
      "cell_type": "markdown",
      "source": [
        "# **Split data into separate training and test set** <a class=\"anchor\" id=\"10\"></a>"
      ],
      "metadata": {
        "id": "MQfAxHIHZMtn"
      }
    },
    {
      "cell_type": "code",
      "source": [
        "# split X and y into training and testing sets\n",
        "\n",
        "from sklearn.model_selection import train_test_split\n",
        "\n",
        "X_train, X_test, y_train, y_test = train_test_split(X, y, test_size = 0.2, random_state = 0)\n"
      ],
      "metadata": {
        "trusted": true,
        "id": "IgKAbo3yZMto"
      },
      "execution_count": 17,
      "outputs": []
    },
    {
      "cell_type": "code",
      "source": [
        "# check the shape of X_train and X_test\n",
        "\n",
        "X_train.shape, X_test.shape"
      ],
      "metadata": {
        "trusted": true,
        "colab": {
          "base_uri": "https://localhost:8080/"
        },
        "id": "iIalKAbiZMtq",
        "outputId": "b9530044-8cbc-4460-8147-3ceaf9db3c39"
      },
      "execution_count": 18,
      "outputs": [
        {
          "output_type": "execute_result",
          "data": {
            "text/plain": [
              "((4000, 13), (1000, 13))"
            ]
          },
          "metadata": {},
          "execution_count": 18
        }
      ]
    },
    {
      "cell_type": "markdown",
      "source": [
        "# **Feature Scaling** <a class=\"anchor\" id=\"11\"></a>"
      ],
      "metadata": {
        "id": "TBvgsiHXZMtr"
      }
    },
    {
      "cell_type": "code",
      "source": [
        "cols = X_train.columns"
      ],
      "metadata": {
        "trusted": true,
        "id": "F8epywANZMts"
      },
      "execution_count": 19,
      "outputs": []
    },
    {
      "cell_type": "code",
      "source": [
        "from sklearn.preprocessing import StandardScaler\n",
        "\n",
        "scaler = StandardScaler()\n",
        "\n",
        "X_train = scaler.fit_transform(X_train)\n",
        "\n",
        "X_test = scaler.transform(X_test)\n"
      ],
      "metadata": {
        "trusted": true,
        "id": "hzkjB2S5ZMtt"
      },
      "execution_count": 20,
      "outputs": []
    },
    {
      "cell_type": "code",
      "source": [
        "X_train = pd.DataFrame(X_train, columns=[cols])"
      ],
      "metadata": {
        "trusted": true,
        "id": "t6mw3NQFZMtw"
      },
      "execution_count": 21,
      "outputs": []
    },
    {
      "cell_type": "code",
      "source": [
        "X_test = pd.DataFrame(X_test, columns=[cols])"
      ],
      "metadata": {
        "trusted": true,
        "id": "i46sqzzaZMt0"
      },
      "execution_count": 22,
      "outputs": []
    },
    {
      "cell_type": "code",
      "source": [
        "X_train.describe()"
      ],
      "metadata": {
        "trusted": true,
        "colab": {
          "base_uri": "https://localhost:8080/",
          "height": 468
        },
        "id": "NjcNlsN7ZMt2",
        "outputId": "5a2ac5e2-6130-4c3b-e48b-15c71bf8789b"
      },
      "execution_count": 23,
      "outputs": [
        {
          "output_type": "execute_result",
          "data": {
            "text/html": [
              "\n",
              "  <div id=\"df-5394b08f-5de6-4929-a725-1e3594473f30\">\n",
              "    <div class=\"colab-df-container\">\n",
              "      <div>\n",
              "<style scoped>\n",
              "    .dataframe tbody tr th:only-of-type {\n",
              "        vertical-align: middle;\n",
              "    }\n",
              "\n",
              "    .dataframe tbody tr th {\n",
              "        vertical-align: top;\n",
              "    }\n",
              "\n",
              "    .dataframe thead tr th {\n",
              "        text-align: left;\n",
              "    }\n",
              "</style>\n",
              "<table border=\"1\" class=\"dataframe\">\n",
              "  <thead>\n",
              "    <tr>\n",
              "      <th></th>\n",
              "      <th>ID</th>\n",
              "      <th>Age</th>\n",
              "      <th>Experience</th>\n",
              "      <th>Income</th>\n",
              "      <th>ZIP Code</th>\n",
              "      <th>Family</th>\n",
              "      <th>CCAvg</th>\n",
              "      <th>Education</th>\n",
              "      <th>Mortgage</th>\n",
              "      <th>Personal Loan</th>\n",
              "      <th>Securities Account</th>\n",
              "      <th>CD Account</th>\n",
              "      <th>Online</th>\n",
              "    </tr>\n",
              "  </thead>\n",
              "  <tbody>\n",
              "    <tr>\n",
              "      <th>count</th>\n",
              "      <td>4.000000e+03</td>\n",
              "      <td>4.000000e+03</td>\n",
              "      <td>4.000000e+03</td>\n",
              "      <td>4.000000e+03</td>\n",
              "      <td>4.000000e+03</td>\n",
              "      <td>4.000000e+03</td>\n",
              "      <td>4.000000e+03</td>\n",
              "      <td>4.000000e+03</td>\n",
              "      <td>4.000000e+03</td>\n",
              "      <td>4.000000e+03</td>\n",
              "      <td>4.000000e+03</td>\n",
              "      <td>4.000000e+03</td>\n",
              "      <td>4.000000e+03</td>\n",
              "    </tr>\n",
              "    <tr>\n",
              "      <th>mean</th>\n",
              "      <td>1.047148e-16</td>\n",
              "      <td>8.820722e-17</td>\n",
              "      <td>-9.203749e-17</td>\n",
              "      <td>-4.454770e-17</td>\n",
              "      <td>2.580948e-15</td>\n",
              "      <td>-3.212985e-16</td>\n",
              "      <td>1.693090e-18</td>\n",
              "      <td>-6.400436e-17</td>\n",
              "      <td>1.387224e-16</td>\n",
              "      <td>-7.638334e-17</td>\n",
              "      <td>6.427220e-16</td>\n",
              "      <td>-7.165379e-16</td>\n",
              "      <td>2.525757e-16</td>\n",
              "    </tr>\n",
              "    <tr>\n",
              "      <th>std</th>\n",
              "      <td>1.000125e+00</td>\n",
              "      <td>1.000125e+00</td>\n",
              "      <td>1.000125e+00</td>\n",
              "      <td>1.000125e+00</td>\n",
              "      <td>1.000125e+00</td>\n",
              "      <td>1.000125e+00</td>\n",
              "      <td>1.000125e+00</td>\n",
              "      <td>1.000125e+00</td>\n",
              "      <td>1.000125e+00</td>\n",
              "      <td>1.000125e+00</td>\n",
              "      <td>1.000125e+00</td>\n",
              "      <td>1.000125e+00</td>\n",
              "      <td>1.000125e+00</td>\n",
              "    </tr>\n",
              "    <tr>\n",
              "      <th>min</th>\n",
              "      <td>-1.732418e+00</td>\n",
              "      <td>-1.941993e+00</td>\n",
              "      <td>-2.006748e+00</td>\n",
              "      <td>-1.425882e+00</td>\n",
              "      <td>-3.807548e+01</td>\n",
              "      <td>-1.212103e+00</td>\n",
              "      <td>-1.108479e+00</td>\n",
              "      <td>-1.046601e+00</td>\n",
              "      <td>-5.517533e-01</td>\n",
              "      <td>-3.286841e-01</td>\n",
              "      <td>-3.461515e-01</td>\n",
              "      <td>-2.543212e-01</td>\n",
              "      <td>-1.211451e+00</td>\n",
              "    </tr>\n",
              "    <tr>\n",
              "      <th>25%</th>\n",
              "      <td>-8.646705e-01</td>\n",
              "      <td>-8.975483e-01</td>\n",
              "      <td>-8.768221e-01</td>\n",
              "      <td>-7.560813e-01</td>\n",
              "      <td>-5.463612e-01</td>\n",
              "      <td>-1.212103e+00</td>\n",
              "      <td>-7.101091e-01</td>\n",
              "      <td>-1.046601e+00</td>\n",
              "      <td>-5.517533e-01</td>\n",
              "      <td>-3.286841e-01</td>\n",
              "      <td>-3.461515e-01</td>\n",
              "      <td>-2.543212e-01</td>\n",
              "      <td>-1.211451e+00</td>\n",
              "    </tr>\n",
              "    <tr>\n",
              "      <th>50%</th>\n",
              "      <td>-1.323063e-02</td>\n",
              "      <td>-2.717733e-02</td>\n",
              "      <td>-7.648726e-03</td>\n",
              "      <td>-2.159191e-01</td>\n",
              "      <td>1.194385e-01</td>\n",
              "      <td>-3.433677e-01</td>\n",
              "      <td>-2.548298e-01</td>\n",
              "      <td>1.498563e-01</td>\n",
              "      <td>-5.517533e-01</td>\n",
              "      <td>-3.286841e-01</td>\n",
              "      <td>-3.461515e-01</td>\n",
              "      <td>-2.543212e-01</td>\n",
              "      <td>8.254567e-01</td>\n",
              "    </tr>\n",
              "    <tr>\n",
              "      <th>75%</th>\n",
              "      <td>8.637108e-01</td>\n",
              "      <td>8.431936e-01</td>\n",
              "      <td>8.615247e-01</td>\n",
              "      <td>5.403081e-01</td>\n",
              "      <td>6.648856e-01</td>\n",
              "      <td>5.253678e-01</td>\n",
              "      <td>3.711793e-01</td>\n",
              "      <td>1.346314e+00</td>\n",
              "      <td>4.270241e-01</td>\n",
              "      <td>-3.286841e-01</td>\n",
              "      <td>-3.461515e-01</td>\n",
              "      <td>-2.543212e-01</td>\n",
              "      <td>8.254567e-01</td>\n",
              "    </tr>\n",
              "    <tr>\n",
              "      <th>max</th>\n",
              "      <td>1.736489e+00</td>\n",
              "      <td>1.887639e+00</td>\n",
              "      <td>1.991450e+00</td>\n",
              "      <td>3.241119e+00</td>\n",
              "      <td>1.592736e+00</td>\n",
              "      <td>1.394103e+00</td>\n",
              "      <td>4.582513e+00</td>\n",
              "      <td>1.346314e+00</td>\n",
              "      <td>5.790325e+00</td>\n",
              "      <td>3.042435e+00</td>\n",
              "      <td>2.888909e+00</td>\n",
              "      <td>3.932036e+00</td>\n",
              "      <td>8.254567e-01</td>\n",
              "    </tr>\n",
              "  </tbody>\n",
              "</table>\n",
              "</div>\n",
              "      <button class=\"colab-df-convert\" onclick=\"convertToInteractive('df-5394b08f-5de6-4929-a725-1e3594473f30')\"\n",
              "              title=\"Convert this dataframe to an interactive table.\"\n",
              "              style=\"display:none;\">\n",
              "        \n",
              "  <svg xmlns=\"http://www.w3.org/2000/svg\" height=\"24px\"viewBox=\"0 0 24 24\"\n",
              "       width=\"24px\">\n",
              "    <path d=\"M0 0h24v24H0V0z\" fill=\"none\"/>\n",
              "    <path d=\"M18.56 5.44l.94 2.06.94-2.06 2.06-.94-2.06-.94-.94-2.06-.94 2.06-2.06.94zm-11 1L8.5 8.5l.94-2.06 2.06-.94-2.06-.94L8.5 2.5l-.94 2.06-2.06.94zm10 10l.94 2.06.94-2.06 2.06-.94-2.06-.94-.94-2.06-.94 2.06-2.06.94z\"/><path d=\"M17.41 7.96l-1.37-1.37c-.4-.4-.92-.59-1.43-.59-.52 0-1.04.2-1.43.59L10.3 9.45l-7.72 7.72c-.78.78-.78 2.05 0 2.83L4 21.41c.39.39.9.59 1.41.59.51 0 1.02-.2 1.41-.59l7.78-7.78 2.81-2.81c.8-.78.8-2.07 0-2.86zM5.41 20L4 18.59l7.72-7.72 1.47 1.35L5.41 20z\"/>\n",
              "  </svg>\n",
              "      </button>\n",
              "      \n",
              "  <style>\n",
              "    .colab-df-container {\n",
              "      display:flex;\n",
              "      flex-wrap:wrap;\n",
              "      gap: 12px;\n",
              "    }\n",
              "\n",
              "    .colab-df-convert {\n",
              "      background-color: #E8F0FE;\n",
              "      border: none;\n",
              "      border-radius: 50%;\n",
              "      cursor: pointer;\n",
              "      display: none;\n",
              "      fill: #1967D2;\n",
              "      height: 32px;\n",
              "      padding: 0 0 0 0;\n",
              "      width: 32px;\n",
              "    }\n",
              "\n",
              "    .colab-df-convert:hover {\n",
              "      background-color: #E2EBFA;\n",
              "      box-shadow: 0px 1px 2px rgba(60, 64, 67, 0.3), 0px 1px 3px 1px rgba(60, 64, 67, 0.15);\n",
              "      fill: #174EA6;\n",
              "    }\n",
              "\n",
              "    [theme=dark] .colab-df-convert {\n",
              "      background-color: #3B4455;\n",
              "      fill: #D2E3FC;\n",
              "    }\n",
              "\n",
              "    [theme=dark] .colab-df-convert:hover {\n",
              "      background-color: #434B5C;\n",
              "      box-shadow: 0px 1px 3px 1px rgba(0, 0, 0, 0.15);\n",
              "      filter: drop-shadow(0px 1px 2px rgba(0, 0, 0, 0.3));\n",
              "      fill: #FFFFFF;\n",
              "    }\n",
              "  </style>\n",
              "\n",
              "      <script>\n",
              "        const buttonEl =\n",
              "          document.querySelector('#df-5394b08f-5de6-4929-a725-1e3594473f30 button.colab-df-convert');\n",
              "        buttonEl.style.display =\n",
              "          google.colab.kernel.accessAllowed ? 'block' : 'none';\n",
              "\n",
              "        async function convertToInteractive(key) {\n",
              "          const element = document.querySelector('#df-5394b08f-5de6-4929-a725-1e3594473f30');\n",
              "          const dataTable =\n",
              "            await google.colab.kernel.invokeFunction('convertToInteractive',\n",
              "                                                     [key], {});\n",
              "          if (!dataTable) return;\n",
              "\n",
              "          const docLinkHtml = 'Like what you see? Visit the ' +\n",
              "            '<a target=\"_blank\" href=https://colab.research.google.com/notebooks/data_table.ipynb>data table notebook</a>'\n",
              "            + ' to learn more about interactive tables.';\n",
              "          element.innerHTML = '';\n",
              "          dataTable['output_type'] = 'display_data';\n",
              "          await google.colab.output.renderOutput(dataTable, element);\n",
              "          const docLink = document.createElement('div');\n",
              "          docLink.innerHTML = docLinkHtml;\n",
              "          element.appendChild(docLink);\n",
              "        }\n",
              "      </script>\n",
              "    </div>\n",
              "  </div>\n",
              "  "
            ],
            "text/plain": [
              "                 ID           Age  ...    CD Account        Online\n",
              "count  4.000000e+03  4.000000e+03  ...  4.000000e+03  4.000000e+03\n",
              "mean   1.047148e-16  8.820722e-17  ... -7.165379e-16  2.525757e-16\n",
              "std    1.000125e+00  1.000125e+00  ...  1.000125e+00  1.000125e+00\n",
              "min   -1.732418e+00 -1.941993e+00  ... -2.543212e-01 -1.211451e+00\n",
              "25%   -8.646705e-01 -8.975483e-01  ... -2.543212e-01 -1.211451e+00\n",
              "50%   -1.323063e-02 -2.717733e-02  ... -2.543212e-01  8.254567e-01\n",
              "75%    8.637108e-01  8.431936e-01  ... -2.543212e-01  8.254567e-01\n",
              "max    1.736489e+00  1.887639e+00  ...  3.932036e+00  8.254567e-01\n",
              "\n",
              "[8 rows x 13 columns]"
            ]
          },
          "metadata": {},
          "execution_count": 23
        }
      ]
    },
    {
      "cell_type": "markdown",
      "source": [
        "# **Run SVM with default hyperparameters** <a class=\"anchor\" id=\"12\"></a>\n",
        "\n",
        "Default hyperparameter means C=1.0,  kernel=`rbf` and gamma=`auto` among other parameters."
      ],
      "metadata": {
        "id": "01uP9lPQZMt4"
      }
    },
    {
      "cell_type": "code",
      "source": [
        "# import SVC classifier\n",
        "from sklearn.svm import SVC\n",
        "\n",
        "\n",
        "# import metrics to compute accuracy\n",
        "from sklearn.metrics import accuracy_score\n",
        "\n",
        "\n",
        "# instantiate classifier with default hyperparameters\n",
        "svc=SVC() \n",
        "\n",
        "\n",
        "# fit classifier to training set\n",
        "svc.fit(X_train,y_train)\n",
        "\n",
        "\n",
        "# make predictions on test set\n",
        "y_pred=svc.predict(X_test)\n",
        "\n",
        "\n",
        "# compute and print accuracy score\n",
        "print('Model accuracy score with default hyperparameters: {0:0.4f}'. format(accuracy_score(y_test, y_pred)))"
      ],
      "metadata": {
        "trusted": true,
        "colab": {
          "base_uri": "https://localhost:8080/"
        },
        "id": "wd8WtjzeZMt5",
        "outputId": "8ada9b9b-acc8-46b5-90e6-55c669a30b2a"
      },
      "execution_count": 24,
      "outputs": [
        {
          "output_type": "stream",
          "name": "stdout",
          "text": [
            "Model accuracy score with default hyperparameters: 0.7490\n"
          ]
        }
      ]
    },
    {
      "cell_type": "markdown",
      "source": [
        "### Run SVM with rbf kernel and C=100.0\n",
        "\n",
        "\n",
        "We have seen that there are outliers in our dataset. So, we should increase the value of C as higher C means fewer outliers. \n",
        "So, I will run SVM with kernel=`rbf` and C=100.0."
      ],
      "metadata": {
        "id": "LvyIQCnjZMt7"
      }
    },
    {
      "cell_type": "code",
      "source": [
        "# instantiate classifier with rbf kernel and C=100\n",
        "svc=SVC(C=100.0) \n",
        "\n",
        "\n",
        "# fit classifier to training set\n",
        "svc.fit(X_train,y_train)\n",
        "\n",
        "\n",
        "# make predictions on test set\n",
        "y_pred=svc.predict(X_test)\n",
        "\n",
        "\n",
        "# compute and print accuracy score\n",
        "print('Model accuracy score with rbf kernel and C=100.0 : {0:0.4f}'. format(accuracy_score(y_test, y_pred)))"
      ],
      "metadata": {
        "trusted": true,
        "colab": {
          "base_uri": "https://localhost:8080/"
        },
        "id": "zrOKdjHQZMuF",
        "outputId": "2fbc47a4-2a84-4c14-e0c2-3392bcc275c7"
      },
      "execution_count": 25,
      "outputs": [
        {
          "output_type": "stream",
          "name": "stdout",
          "text": [
            "Model accuracy score with rbf kernel and C=100.0 : 0.6970\n"
          ]
        }
      ]
    },
    {
      "cell_type": "markdown",
      "source": [
        "### Run SVM with rbf kernel and C=1000.0\n"
      ],
      "metadata": {
        "id": "nyAw8rEtZMuI"
      }
    },
    {
      "cell_type": "code",
      "source": [
        "# instantiate classifier with rbf kernel and C=1000\n",
        "svc=SVC(C=1000.0) \n",
        "\n",
        "\n",
        "# fit classifier to training set\n",
        "svc.fit(X_train,y_train)\n",
        "\n",
        "\n",
        "# make predictions on test set\n",
        "y_pred=svc.predict(X_test)\n",
        "\n",
        "\n",
        "# compute and print accuracy score\n",
        "print('Model accuracy score with rbf kernel and C=1000.0 : {0:0.4f}'. format(accuracy_score(y_test, y_pred)))"
      ],
      "metadata": {
        "trusted": true,
        "colab": {
          "base_uri": "https://localhost:8080/"
        },
        "id": "dbBG1mlyZMuJ",
        "outputId": "b91e95fa-c689-4e9c-ca52-bdb614d16828"
      },
      "execution_count": 26,
      "outputs": [
        {
          "output_type": "stream",
          "name": "stdout",
          "text": [
            "Model accuracy score with rbf kernel and C=1000.0 : 0.6530\n"
          ]
        }
      ]
    },
    {
      "cell_type": "markdown",
      "source": [
        "# **Run SVM with linear kernel** <a class=\"anchor\" id=\"13\"></a>\n",
        "\n",
        "### Run SVM with linear kernel and C=1.0"
      ],
      "metadata": {
        "id": "mOMFbLEsZMuL"
      }
    },
    {
      "cell_type": "code",
      "source": [
        "# instantiate classifier with linear kernel and C=1.0\n",
        "linear_svc=SVC(kernel='linear', C=1.0) \n",
        "\n",
        "\n",
        "# fit classifier to training set\n",
        "linear_svc.fit(X_train,y_train)\n",
        "\n",
        "\n",
        "# make predictions on test set\n",
        "y_pred_test=linear_svc.predict(X_test)\n",
        "\n",
        "\n",
        "# compute and print accuracy score\n",
        "print('Model accuracy score with linear kernel and C=1.0 : {0:0.4f}'. format(accuracy_score(y_test, y_pred_test)))\n"
      ],
      "metadata": {
        "trusted": true,
        "colab": {
          "base_uri": "https://localhost:8080/"
        },
        "id": "_JltB0zLZMuM",
        "outputId": "c4bd925c-32af-4842-cba1-65f974d293bd"
      },
      "execution_count": 27,
      "outputs": [
        {
          "output_type": "stream",
          "name": "stdout",
          "text": [
            "Model accuracy score with linear kernel and C=1.0 : 0.7470\n"
          ]
        }
      ]
    },
    {
      "cell_type": "markdown",
      "source": [
        "### Run SVM with linear kernel and C=100.0"
      ],
      "metadata": {
        "id": "7wIUTo9oZMuN"
      }
    },
    {
      "cell_type": "code",
      "source": [
        "# instantiate classifier with linear kernel and C=100.0\n",
        "linear_svc100=SVC(kernel='linear', C=100.0) \n",
        "\n",
        "\n",
        "# fit classifier to training set\n",
        "linear_svc100.fit(X_train, y_train)\n",
        "\n",
        "\n",
        "# make predictions on test set\n",
        "y_pred=linear_svc100.predict(X_test)\n",
        "\n",
        "\n",
        "# compute and print accuracy score\n",
        "print('Model accuracy score with linear kernel and C=100.0 : {0:0.4f}'. format(accuracy_score(y_test, y_pred)))"
      ],
      "metadata": {
        "trusted": true,
        "colab": {
          "base_uri": "https://localhost:8080/"
        },
        "id": "oC2xBmBWZMuN",
        "outputId": "e35c59da-ed08-4e63-a94f-da509479a669"
      },
      "execution_count": 28,
      "outputs": [
        {
          "output_type": "stream",
          "name": "stdout",
          "text": [
            "Model accuracy score with linear kernel and C=100.0 : 0.7470\n"
          ]
        }
      ]
    },
    {
      "cell_type": "markdown",
      "source": [
        "### Run SVM with linear kernel and C=1000.0"
      ],
      "metadata": {
        "id": "LWOAVRamZMuP"
      }
    },
    {
      "cell_type": "code",
      "source": [
        "# instantiate classifier with linear kernel and C=1000.0\n",
        "linear_svc1000=SVC(kernel='linear', C=1000.0) \n",
        "\n",
        "\n",
        "# fit classifier to training set\n",
        "linear_svc1000.fit(X_train, y_train)\n",
        "\n",
        "\n",
        "# make predictions on test set\n",
        "y_pred=linear_svc1000.predict(X_test)\n",
        "\n",
        "\n",
        "# compute and print accuracy score\n",
        "print('Model accuracy score with linear kernel and C=1000.0 : {0:0.4f}'. format(accuracy_score(y_test, y_pred)))"
      ],
      "metadata": {
        "trusted": true,
        "colab": {
          "base_uri": "https://localhost:8080/"
        },
        "id": "4CJevQyXZMuQ",
        "outputId": "cf259c20-4a2f-4525-9e19-7aa0cd245dc1"
      },
      "execution_count": 29,
      "outputs": [
        {
          "output_type": "stream",
          "name": "stdout",
          "text": [
            "Model accuracy score with linear kernel and C=1000.0 : 0.7470\n"
          ]
        }
      ]
    },
    {
      "cell_type": "markdown",
      "source": [
        "### Compare the train-set and test-set accuracy\n",
        "\n",
        "\n",
        "Now, I will compare the train-set and test-set accuracy to check for overfitting."
      ],
      "metadata": {
        "id": "0QFOl1VgZMuW"
      }
    },
    {
      "cell_type": "code",
      "source": [
        "y_pred_train = linear_svc.predict(X_train)\n",
        "\n",
        "y_pred_train"
      ],
      "metadata": {
        "trusted": true,
        "colab": {
          "base_uri": "https://localhost:8080/"
        },
        "id": "o_Yuv_HQZMuY",
        "outputId": "571e89c5-ae94-4dfd-87a5-ee235149b3dc"
      },
      "execution_count": 30,
      "outputs": [
        {
          "output_type": "execute_result",
          "data": {
            "text/plain": [
              "array([0, 0, 0, ..., 0, 1, 0])"
            ]
          },
          "metadata": {},
          "execution_count": 30
        }
      ]
    },
    {
      "cell_type": "code",
      "source": [
        "print('Training-set accuracy score: {0:0.4f}'. format(accuracy_score(y_train, y_pred_train)))"
      ],
      "metadata": {
        "trusted": true,
        "colab": {
          "base_uri": "https://localhost:8080/"
        },
        "id": "6A0q9676ZMuZ",
        "outputId": "300a3c44-6a8f-499f-9947-06733ac417f8"
      },
      "execution_count": 31,
      "outputs": [
        {
          "output_type": "stream",
          "name": "stdout",
          "text": [
            "Training-set accuracy score: 0.7402\n"
          ]
        }
      ]
    },
    {
      "cell_type": "markdown",
      "source": [
        "### Check for overfitting and underfitting"
      ],
      "metadata": {
        "id": "jieR80oAZMud"
      }
    },
    {
      "cell_type": "code",
      "source": [
        "# print the scores on training and test set\n",
        "\n",
        "print('Training set score: {:.4f}'.format(linear_svc.score(X_train, y_train)))\n",
        "\n",
        "print('Test set score: {:.4f}'.format(linear_svc.score(X_test, y_test)))"
      ],
      "metadata": {
        "trusted": true,
        "colab": {
          "base_uri": "https://localhost:8080/"
        },
        "id": "j-WOUYP4ZMue",
        "outputId": "bce17d70-4f11-4c30-ca4a-a3e2d9e76891"
      },
      "execution_count": 32,
      "outputs": [
        {
          "output_type": "stream",
          "name": "stdout",
          "text": [
            "Training set score: 0.7402\n",
            "Test set score: 0.7470\n"
          ]
        }
      ]
    },
    {
      "cell_type": "markdown",
      "source": [
        "### Compare model accuracy with null accuracy"
      ],
      "metadata": {
        "id": "LzXhJpqWZMug"
      }
    },
    {
      "cell_type": "code",
      "source": [
        "# check class distribution in test set\n",
        "\n",
        "y_test.value_counts()"
      ],
      "metadata": {
        "trusted": true,
        "colab": {
          "base_uri": "https://localhost:8080/"
        },
        "id": "6UjKZknyZMuh",
        "outputId": "cb97b6ef-65ff-4b06-c88b-5046d0bae585"
      },
      "execution_count": 33,
      "outputs": [
        {
          "output_type": "execute_result",
          "data": {
            "text/plain": [
              "0    704\n",
              "1    296\n",
              "Name: CreditCard, dtype: int64"
            ]
          },
          "metadata": {},
          "execution_count": 33
        }
      ]
    },
    {
      "cell_type": "code",
      "source": [
        "# check null accuracy score\n",
        "\n",
        "null_accuracy = (13/(13+11+6))\n",
        "\n",
        "print('Null accuracy score: {0:0.4f}'. format(null_accuracy))"
      ],
      "metadata": {
        "trusted": true,
        "colab": {
          "base_uri": "https://localhost:8080/"
        },
        "id": "NgZ6waJiZMum",
        "outputId": "3361f8f5-e9b8-4908-d01c-6833c17b0e2d"
      },
      "execution_count": 34,
      "outputs": [
        {
          "output_type": "stream",
          "name": "stdout",
          "text": [
            "Null accuracy score: 0.4333\n"
          ]
        }
      ]
    },
    {
      "cell_type": "markdown",
      "source": [
        "# **Run SVM with polynomial kernel** <a class=\"anchor\" id=\"14\"></a>\n",
        "\n",
        "### Run SVM with polynomial kernel and C=1.0"
      ],
      "metadata": {
        "id": "m1oP_uZpZMuo"
      }
    },
    {
      "cell_type": "code",
      "source": [
        "# instantiate classifier with polynomial kernel and C=1.0\n",
        "poly_svc=SVC(kernel='poly', C=1.0) \n",
        "\n",
        "\n",
        "# fit classifier to training set\n",
        "poly_svc.fit(X_train,y_train)\n",
        "\n",
        "\n",
        "# make predictions on test set\n",
        "y_pred=poly_svc.predict(X_test)\n",
        "\n",
        "\n",
        "# compute and print accuracy score\n",
        "print('Model accuracy score with polynomial kernel and C=1.0 : {0:0.4f}'. format(accuracy_score(y_test, y_pred)))\n"
      ],
      "metadata": {
        "trusted": true,
        "colab": {
          "base_uri": "https://localhost:8080/"
        },
        "id": "nDYhZsxIZMup",
        "outputId": "22e3eea8-d2ea-4cde-a2b7-f9113a4e79a8"
      },
      "execution_count": 35,
      "outputs": [
        {
          "output_type": "stream",
          "name": "stdout",
          "text": [
            "Model accuracy score with polynomial kernel and C=1.0 : 0.7430\n"
          ]
        }
      ]
    },
    {
      "cell_type": "markdown",
      "source": [
        " ### Run SVM with polynomial kernel and C=100.0"
      ],
      "metadata": {
        "id": "xCGq1CL9ZMuq"
      }
    },
    {
      "cell_type": "code",
      "source": [
        "# instantiate classifier with polynomial kernel and C=100.0\n",
        "poly_svc100=SVC(kernel='poly', C=100.0) \n",
        "\n",
        "\n",
        "# fit classifier to training set\n",
        "poly_svc100.fit(X_train, y_train)\n",
        "\n",
        "\n",
        "# make predictions on test set\n",
        "y_pred=poly_svc100.predict(X_test)\n",
        "\n",
        "\n",
        "# compute and print accuracy score\n",
        "print('Model accuracy score with polynomial kernel and C=1.0 : {0:0.4f}'. format(accuracy_score(y_test, y_pred)))"
      ],
      "metadata": {
        "trusted": true,
        "colab": {
          "base_uri": "https://localhost:8080/"
        },
        "id": "QiUnag4gZMur",
        "outputId": "32e56523-8d7a-4805-c898-084e3c1ecef1"
      },
      "execution_count": 36,
      "outputs": [
        {
          "output_type": "stream",
          "name": "stdout",
          "text": [
            "Model accuracy score with polynomial kernel and C=1.0 : 0.7320\n"
          ]
        }
      ]
    },
    {
      "cell_type": "markdown",
      "source": [
        "# **Run SVM with sigmoid kernel** <a class=\"anchor\" id=\"15\"></a>\n",
        "\n",
        "### Run SVM with sigmoid kernel and C=1.0"
      ],
      "metadata": {
        "id": "dNVDMVv4ZMut"
      }
    },
    {
      "cell_type": "code",
      "source": [
        "# instantiate classifier with sigmoid kernel and C=1.0\n",
        "sigmoid_svc=SVC(kernel='sigmoid', C=1.0) \n",
        "\n",
        "\n",
        "# fit classifier to training set\n",
        "sigmoid_svc.fit(X_train,y_train)\n",
        "\n",
        "\n",
        "# make predictions on test set\n",
        "y_pred=sigmoid_svc.predict(X_test)\n",
        "\n",
        "\n",
        "# compute and print accuracy score\n",
        "print('Model accuracy score with sigmoid kernel and C=1.0 : {0:0.4f}'. format(accuracy_score(y_test, y_pred)))\n"
      ],
      "metadata": {
        "trusted": true,
        "colab": {
          "base_uri": "https://localhost:8080/"
        },
        "id": "PhzP_3-pZMuv",
        "outputId": "a5a647dc-3115-4435-f543-a078bf04a40e"
      },
      "execution_count": 37,
      "outputs": [
        {
          "output_type": "stream",
          "name": "stdout",
          "text": [
            "Model accuracy score with sigmoid kernel and C=1.0 : 0.6320\n"
          ]
        }
      ]
    },
    {
      "cell_type": "markdown",
      "source": [
        "### Run SVM with sigmoid kernel and C=100.0"
      ],
      "metadata": {
        "id": "s0eJsT2uZMuz"
      }
    },
    {
      "cell_type": "code",
      "source": [
        "# instantiate classifier with sigmoid kernel and C=100.0\n",
        "sigmoid_svc100=SVC(kernel='sigmoid', C=100.0) \n",
        "\n",
        "\n",
        "# fit classifier to training set\n",
        "sigmoid_svc100.fit(X_train,y_train)\n",
        "\n",
        "\n",
        "# make predictions on test set\n",
        "y_pred=sigmoid_svc100.predict(X_test)\n",
        "\n",
        "\n",
        "# compute and print accuracy score\n",
        "print('Model accuracy score with sigmoid kernel and C=100.0 : {0:0.4f}'. format(accuracy_score(y_test, y_pred)))\n"
      ],
      "metadata": {
        "trusted": true,
        "colab": {
          "base_uri": "https://localhost:8080/"
        },
        "id": "CC5uGsP9ZMu1",
        "outputId": "e2ad2b95-25c6-4200-dd58-9f910687d75f"
      },
      "execution_count": 38,
      "outputs": [
        {
          "output_type": "stream",
          "name": "stdout",
          "text": [
            "Model accuracy score with sigmoid kernel and C=100.0 : 0.6170\n"
          ]
        }
      ]
    },
    {
      "cell_type": "markdown",
      "source": [
        "# **Confusion matrix** <a class=\"anchor\" id=\"16\"></a>\n",
        "\n",
        "A confusion matrix is a tool for summarizing the performance of a classification algorithm. A confusion matrix will give us a clear picture of classification model performance and the types of errors produced by the model. It gives us a summary of correct and incorrect predictions broken down by each category. The summary is represented in a tabular form.\n",
        "\n",
        "\n",
        "Four types of outcomes are possible while evaluating a classification model performance. These four outcomes are described below:-\n",
        "\n",
        "\n",
        "**True Positives (TP)** – True Positives occur when we predict an observation belongs to a certain class and the observation actually belongs to that class.\n",
        "\n",
        "\n",
        "**True Negatives (TN)** – True Negatives occur when we predict an observation does not belong to a certain class and the observation actually does not belong to that class.\n",
        "\n",
        "\n",
        "**False Positives (FP)** – False Positives occur when we predict an observation belongs to a    certain class but the observation actually does not belong to that class. This type of error is called **Type I error.**\n",
        "\n",
        "\n",
        "\n",
        "**False Negatives (FN)** – False Negatives occur when we predict an observation does not belong to a certain class but the observation actually belongs to that class. This is a very serious error and it is called **Type II error.**\n",
        "\n",
        "\n",
        "\n",
        "These four outcomes are summarized in a confusion matrix given below.\n"
      ],
      "metadata": {
        "id": "vyEK0RZnZMu5"
      }
    },
    {
      "cell_type": "code",
      "source": [
        "# Print the Confusion Matrix and slice it into four pieces\n",
        "\n",
        "from sklearn.metrics import confusion_matrix\n",
        "\n",
        "cm = confusion_matrix(y_test, y_pred_test)\n",
        "\n",
        "print('Confusion matrix\\n\\n', cm)\n",
        "\n",
        "print('\\nTrue Positives(TP) = ', cm[0,0])\n",
        "\n",
        "print('\\nTrue Negatives(TN) = ', cm[1,1])\n",
        "\n",
        "print('\\nFalse Positives(FP) = ', cm[0,1])\n",
        "\n",
        "print('\\nFalse Negatives(FN) = ', cm[1,0])"
      ],
      "metadata": {
        "trusted": true,
        "id": "kJYgmxpNZMu8",
        "colab": {
          "base_uri": "https://localhost:8080/"
        },
        "outputId": "e52f1020-0aa2-4398-b4d4-368742794d97"
      },
      "execution_count": 39,
      "outputs": [
        {
          "output_type": "stream",
          "name": "stdout",
          "text": [
            "Confusion matrix\n",
            "\n",
            " [[696   8]\n",
            " [245  51]]\n",
            "\n",
            "True Positives(TP) =  696\n",
            "\n",
            "True Negatives(TN) =  51\n",
            "\n",
            "False Positives(FP) =  8\n",
            "\n",
            "False Negatives(FN) =  245\n"
          ]
        }
      ]
    },
    {
      "cell_type": "code",
      "source": [
        "# visualize confusion matrix with seaborn heatmap\n",
        "\n",
        "cm_matrix = pd.DataFrame(data=cm, columns=['Actual Positive:1', 'Actual Negative:0'], \n",
        "                                 index=['Predict Positive:1', 'Predict Negative:0'])\n",
        "\n",
        "sns.heatmap(cm_matrix, annot=True, fmt='d', cmap='YlGnBu')"
      ],
      "metadata": {
        "trusted": true,
        "id": "m11vYRqJZMu_",
        "colab": {
          "base_uri": "https://localhost:8080/",
          "height": 282
        },
        "outputId": "946c9d74-3b31-4bff-ecaf-e8d7d015abd1"
      },
      "execution_count": 40,
      "outputs": [
        {
          "output_type": "execute_result",
          "data": {
            "text/plain": [
              "<matplotlib.axes._subplots.AxesSubplot at 0x7fe2636cc950>"
            ]
          },
          "metadata": {},
          "execution_count": 40
        },
        {
          "output_type": "display_data",
          "data": {
            "image/png": "[encoded data removed]",
            "text/plain": [
              "<Figure size 432x288 with 2 Axes>"
            ]
          },
          "metadata": {
            "needs_background": "light"
          }
        }
      ]
    },
    {
      "cell_type": "markdown",
      "source": [
        "# **Classification metrices** <a class=\"anchor\" id=\"17\"></a>"
      ],
      "metadata": {
        "id": "lPnMud--ZMvE"
      }
    },
    {
      "cell_type": "markdown",
      "source": [
        "### Classification Report\n",
        "\n",
        "\n",
        "**Classification report** is another way to evaluate the classification model performance. It displays the  **precision**, **recall**, **f1** and **support** scores for the model. I have described these terms in later.\n",
        "\n",
        "We can print a classification report as follows:-"
      ],
      "metadata": {
        "id": "RrdawRbkZMvH"
      }
    },
    {
      "cell_type": "code",
      "source": [
        "from sklearn.metrics import classification_report\n",
        "\n",
        "print(classification_report(y_test, y_pred_test))"
      ],
      "metadata": {
        "trusted": true,
        "id": "ggWIrLzMZMvI",
        "colab": {
          "base_uri": "https://localhost:8080/"
        },
        "outputId": "ba601319-306b-4ebd-9d3b-b3ede44b009c"
      },
      "execution_count": 41,
      "outputs": [
        {
          "output_type": "stream",
          "name": "stdout",
          "text": [
            "              precision    recall  f1-score   support\n",
            "\n",
            "           0       0.74      0.99      0.85       704\n",
            "           1       0.86      0.17      0.29       296\n",
            "\n",
            "    accuracy                           0.75      1000\n",
            "   macro avg       0.80      0.58      0.57      1000\n",
            "weighted avg       0.78      0.75      0.68      1000\n",
            "\n"
          ]
        }
      ]
    },
    {
      "cell_type": "markdown",
      "source": [
        "### Classification accuracy"
      ],
      "metadata": {
        "id": "hnqymxDpZMvJ"
      }
    },
    {
      "cell_type": "code",
      "source": [
        "TP = cm[0,0]\n",
        "TN = cm[1,1]\n",
        "FP = cm[0,1]\n",
        "FN = cm[1,0]"
      ],
      "metadata": {
        "trusted": true,
        "id": "FYxb-uGlZMvL"
      },
      "execution_count": 42,
      "outputs": []
    },
    {
      "cell_type": "code",
      "source": [
        "# print classification accuracy\n",
        "\n",
        "classification_accuracy = (TP + TN) / float(TP + TN + FP + FN)\n",
        "\n",
        "print('Classification accuracy : {0:0.4f}'.format(classification_accuracy))\n"
      ],
      "metadata": {
        "trusted": true,
        "id": "1aVouaZ0ZMvM",
        "colab": {
          "base_uri": "https://localhost:8080/"
        },
        "outputId": "84047d5a-fa06-47cf-b69b-6a7194a64cc4"
      },
      "execution_count": 43,
      "outputs": [
        {
          "output_type": "stream",
          "name": "stdout",
          "text": [
            "Classification accuracy : 0.7470\n"
          ]
        }
      ]
    },
    {
      "cell_type": "markdown",
      "source": [
        "### Classification error"
      ],
      "metadata": {
        "id": "nsVoNcNVZMvN"
      }
    },
    {
      "cell_type": "code",
      "source": [
        "# print classification error\n",
        "\n",
        "classification_error = (FP + FN) / float(TP + TN + FP + FN)\n",
        "\n",
        "print('Classification error : {0:0.4f}'.format(classification_error))\n"
      ],
      "metadata": {
        "trusted": true,
        "id": "6Gf9znWxZMvO",
        "colab": {
          "base_uri": "https://localhost:8080/"
        },
        "outputId": "442cd051-be0c-4f01-d0d7-d2a5f4582bd9"
      },
      "execution_count": 44,
      "outputs": [
        {
          "output_type": "stream",
          "name": "stdout",
          "text": [
            "Classification error : 0.2530\n"
          ]
        }
      ]
    },
    {
      "cell_type": "markdown",
      "source": [
        "### Precision\n",
        "\n",
        "\n",
        "**Precision** can be defined as the percentage of correctly predicted positive outcomes out of all the predicted positive outcomes. It can be given as the ratio of true positives (TP) to the sum of true and false positives (TP + FP). \n",
        "\n",
        "\n",
        "So, **Precision** identifies the proportion of correctly predicted positive outcome. It is more concerned with the positive class than the negative class.\n",
        "\n",
        "\n",
        "\n",
        "Mathematically, precision can be defined as the ratio of `TP to (TP + FP)`.\n",
        "\n",
        "\n"
      ],
      "metadata": {
        "id": "ge__tiOkZMvP"
      }
    },
    {
      "cell_type": "code",
      "source": [
        "# print precision score\n",
        "\n",
        "precision = TP / float(TP + FP)\n",
        "\n",
        "\n",
        "print('Precision : {0:0.4f}'.format(precision))\n"
      ],
      "metadata": {
        "trusted": true,
        "id": "B7-_NB85ZMvQ",
        "colab": {
          "base_uri": "https://localhost:8080/"
        },
        "outputId": "0810404b-b900-441e-9956-4df9185c0871"
      },
      "execution_count": 45,
      "outputs": [
        {
          "output_type": "stream",
          "name": "stdout",
          "text": [
            "Precision : 0.9886\n"
          ]
        }
      ]
    },
    {
      "cell_type": "markdown",
      "source": [
        "### Recall\n",
        "\n",
        "\n",
        "Recall can be defined as the percentage of correctly predicted positive outcomes out of all the actual positive outcomes.\n",
        "It can be given as the ratio of true positives (TP) to the sum of true positives and false negatives (TP + FN). **Recall** is also called **Sensitivity**.\n",
        "\n",
        "\n",
        "**Recall** identifies the proportion of correctly predicted actual positives.\n",
        "\n",
        "\n",
        "Mathematically, **recall** can be defined as the ratio of `TP to (TP + FN)`.\n",
        "\n"
      ],
      "metadata": {
        "id": "6hJfpU3WZMvR"
      }
    },
    {
      "cell_type": "code",
      "source": [
        "recall = TP / float(TP + FN)\n",
        "\n",
        "print('Recall or Sensitivity : {0:0.4f}'.format(recall))"
      ],
      "metadata": {
        "trusted": true,
        "id": "6Awar6GJZMvS",
        "colab": {
          "base_uri": "https://localhost:8080/"
        },
        "outputId": "8167a90c-d859-412f-9412-71c495288777"
      },
      "execution_count": 46,
      "outputs": [
        {
          "output_type": "stream",
          "name": "stdout",
          "text": [
            "Recall or Sensitivity : 0.7396\n"
          ]
        }
      ]
    },
    {
      "cell_type": "markdown",
      "source": [
        "### True Positive Rate\n",
        "\n",
        "\n",
        "**True Positive Rate** is synonymous with **Recall**.\n"
      ],
      "metadata": {
        "id": "dEa9CTB1ZMvU"
      }
    },
    {
      "cell_type": "code",
      "source": [
        "true_positive_rate = TP / float(TP + FN)\n",
        "\n",
        "\n",
        "print('True Positive Rate : {0:0.4f}'.format(true_positive_rate))"
      ],
      "metadata": {
        "trusted": true,
        "id": "vuwtUlzFZMvY",
        "colab": {
          "base_uri": "https://localhost:8080/"
        },
        "outputId": "b3eadcc8-e3e3-43ac-d871-b73fb647cb11"
      },
      "execution_count": 47,
      "outputs": [
        {
          "output_type": "stream",
          "name": "stdout",
          "text": [
            "True Positive Rate : 0.7396\n"
          ]
        }
      ]
    },
    {
      "cell_type": "markdown",
      "source": [
        "### False Positive Rate"
      ],
      "metadata": {
        "id": "EfmEeBdBZMva"
      }
    },
    {
      "cell_type": "code",
      "source": [
        "false_positive_rate = FP / float(FP + TN)\n",
        "\n",
        "\n",
        "print('False Positive Rate : {0:0.4f}'.format(false_positive_rate))"
      ],
      "metadata": {
        "trusted": true,
        "id": "s6KtyWQMZMve",
        "colab": {
          "base_uri": "https://localhost:8080/"
        },
        "outputId": "ca71df9a-dfd2-4b33-ce43-a3aaf69718ae"
      },
      "execution_count": 48,
      "outputs": [
        {
          "output_type": "stream",
          "name": "stdout",
          "text": [
            "False Positive Rate : 0.1356\n"
          ]
        }
      ]
    },
    {
      "cell_type": "markdown",
      "source": [
        "### Specificity"
      ],
      "metadata": {
        "id": "izf3CNaTZMvi"
      }
    },
    {
      "cell_type": "code",
      "source": [
        "specificity = TN / (TN + FP)\n",
        "\n",
        "print('Specificity : {0:0.4f}'.format(specificity))"
      ],
      "metadata": {
        "trusted": true,
        "id": "GL0hlTsmZMvj",
        "colab": {
          "base_uri": "https://localhost:8080/"
        },
        "outputId": "56005869-b489-4f52-cc79-f63572fb74c1"
      },
      "execution_count": 49,
      "outputs": [
        {
          "output_type": "stream",
          "name": "stdout",
          "text": [
            "Specificity : 0.8644\n"
          ]
        }
      ]
    },
    {
      "cell_type": "markdown",
      "source": [
        "### f1-score\n",
        "\n",
        "\n",
        "**f1-score** is the weighted harmonic mean of precision and recall. The best possible **f1-score** would be 1.0 and the worst \n",
        "would be 0.0.  **f1-score** is the harmonic mean of precision and recall. So, **f1-score** is always lower than accuracy measures as they embed precision and recall into their computation. The weighted average of `f1-score` should be used to \n",
        "compare classifier models, not global accuracy.\n"
      ],
      "metadata": {
        "id": "7Dn_Y-vzZMvk"
      }
    },
    {
      "cell_type": "markdown",
      "source": [
        "# **ROC - AUC** <a class=\"anchor\" id=\"18\"></a>\n",
        "\n",
        "### ROC Curve\n",
        "\n",
        "\n",
        "Another tool to measure the classification model performance visually is **ROC Curve**. ROC Curve stands for **Receiver Operating Characteristic Curve**. An **ROC Curve** is a plot which shows the performance of a classification model at various \n",
        "classification threshold levels. \n",
        "\n",
        "\n",
        "\n",
        "The **ROC Curve** plots the **True Positive Rate (TPR)** against the **False Positive Rate (FPR)** at various threshold levels.\n",
        "\n",
        "\n",
        "\n",
        "**True Positive Rate (TPR)** is also called **Recall**. It is defined as the ratio of `TP to (TP + FN)`.\n",
        "\n",
        "\n",
        "\n",
        "**False Positive Rate (FPR)** is defined as the ratio of `FP to (FP + TN)`.\n",
        "\n",
        "\n",
        "\n",
        "In the ROC Curve, we will focus on the TPR (True Positive Rate) and FPR (False Positive Rate) of a single point. This will give us the general performance of the ROC curve which consists of the TPR and FPR at various threshold levels. So, an ROC Curve plots TPR vs FPR at different classification threshold levels. If we lower the threshold levels, it may result in more items being classified as positve. It will increase both True Positives (TP) and False Positives (FP).\n",
        "\n"
      ],
      "metadata": {
        "id": "fP31eXRXZMv8"
      }
    },
    {
      "cell_type": "code",
      "source": [
        "# plot ROC Curve\n",
        "\n",
        "from sklearn.metrics import roc_curve\n",
        "\n",
        "fpr, tpr, thresholds = roc_curve(y_test, y_pred_test)\n",
        "\n",
        "plt.figure(figsize=(6,4))\n",
        "\n",
        "plt.plot(fpr, tpr, linewidth=2)\n",
        "\n",
        "plt.plot([0,1], [0,1], 'k--' )\n",
        "\n",
        "plt.rcParams['font.size'] = 12\n",
        "\n",
        "plt.title('ROC curve for Predicting a Pulsar Star classifier')\n",
        "\n",
        "plt.xlabel('False Positive Rate (1 - Specificity)')\n",
        "\n",
        "plt.ylabel('True Positive Rate (Sensitivity)')\n",
        "\n",
        "plt.show()\n"
      ],
      "metadata": {
        "trusted": true,
        "id": "LGV0yenUZMv9",
        "colab": {
          "base_uri": "https://localhost:8080/",
          "height": 296
        },
        "outputId": "cfd7fb63-f0e6-4e0f-af1b-417edb451158"
      },
      "execution_count": 50,
      "outputs": [
        {
          "output_type": "display_data",
          "data": {
            "image/png": "[encoded data removed]",
            "text/plain": [
              "<Figure size 432x288 with 1 Axes>"
            ]
          },
          "metadata": {
            "needs_background": "light"
          }
        }
      ]
    },
    {
      "cell_type": "markdown",
      "source": [
        "ROC curve help us to choose a threshold level that balances sensitivity and specificity for a particular context."
      ],
      "metadata": {
        "id": "erRP-6fuZMv_"
      }
    },
    {
      "cell_type": "markdown",
      "source": [
        "### ROC  AUC\n",
        "\n",
        "\n",
        "**ROC AUC** stands for **Receiver Operating Characteristic - Area Under Curve**. It is a technique to compare classifier performance. In this technique, we measure the `area under the curve (AUC)`. A perfect classifier will have a ROC AUC equal to 1, whereas a purely random classifier will have a ROC AUC equal to 0.5. \n",
        "\n",
        "\n",
        "So, **ROC AUC** is the percentage of the ROC plot that is underneath the curve."
      ],
      "metadata": {
        "id": "xKRMDHNnZMwA"
      }
    },
    {
      "cell_type": "code",
      "source": [
        "# compute ROC AUC\n",
        "\n",
        "from sklearn.metrics import roc_auc_score\n",
        "\n",
        "ROC_AUC = roc_auc_score(y_test, y_pred_test)\n",
        "\n",
        "print('ROC AUC : {:.4f}'.format(ROC_AUC))"
      ],
      "metadata": {
        "trusted": true,
        "id": "4WiNH2IGZMwB",
        "colab": {
          "base_uri": "https://localhost:8080/"
        },
        "outputId": "0f931fc0-d055-49af-db93-946791f002c3"
      },
      "execution_count": 51,
      "outputs": [
        {
          "output_type": "stream",
          "name": "stdout",
          "text": [
            "ROC AUC : 0.5805\n"
          ]
        }
      ]
    },
    {
      "cell_type": "code",
      "source": [
        "# calculate cross-validated ROC AUC \n",
        "\n",
        "from sklearn.model_selection import cross_val_score\n",
        "\n",
        "Cross_validated_ROC_AUC = cross_val_score(linear_svc, X_train, y_train, cv=10, scoring='roc_auc').mean()\n",
        "\n",
        "print('Cross validated ROC AUC : {:.4f}'.format(Cross_validated_ROC_AUC))"
      ],
      "metadata": {
        "trusted": true,
        "id": "c6yThmO_ZMwG",
        "colab": {
          "base_uri": "https://localhost:8080/"
        },
        "outputId": "7ea88ea3-3e57-48c3-c090-e85825449e73"
      },
      "execution_count": 52,
      "outputs": [
        {
          "output_type": "stream",
          "name": "stdout",
          "text": [
            "Cross validated ROC AUC : 0.5714\n"
          ]
        }
      ]
    },
    {
      "cell_type": "markdown",
      "source": [
        "# **Stratified k-fold Cross Validation with shuffle split** <a class=\"anchor\" id=\"19\"></a>"
      ],
      "metadata": {
        "id": "oRQOsWnTZMwJ"
      }
    },
    {
      "cell_type": "markdown",
      "source": [
        "### Stratified k-Fold Cross Validation with shuffle split with  linear kernel"
      ],
      "metadata": {
        "id": "idCFwZs4ZMwL"
      }
    },
    {
      "cell_type": "code",
      "source": [
        "from sklearn.model_selection import KFold\n",
        "\n",
        "\n",
        "kfold=KFold(n_splits=5, shuffle=True, random_state=0)\n",
        "\n",
        "\n",
        "linear_svc=SVC(kernel='linear')\n",
        "\n",
        "\n",
        "linear_scores = cross_val_score(linear_svc, X, y, cv=kfold)\n"
      ],
      "metadata": {
        "trusted": true,
        "id": "poQYdVZ9ZMwM"
      },
      "execution_count": 53,
      "outputs": []
    },
    {
      "cell_type": "code",
      "source": [
        "# print cross-validation scores with linear kernel\n",
        "\n",
        "print('Stratified cross-validation scores with linear kernel:\\n\\n{}'.format(linear_scores))"
      ],
      "metadata": {
        "trusted": true,
        "id": "eV34WLinZMwN",
        "colab": {
          "base_uri": "https://localhost:8080/"
        },
        "outputId": "fee75e9c-d835-4aad-cba8-b855691e44c6"
      },
      "execution_count": 54,
      "outputs": [
        {
          "output_type": "stream",
          "name": "stdout",
          "text": [
            "Stratified cross-validation scores with linear kernel:\n",
            "\n",
            "[0.704 0.704 0.721 0.686 0.716]\n"
          ]
        }
      ]
    },
    {
      "cell_type": "code",
      "source": [
        "# print average cross-validation score with linear kernel\n",
        "\n",
        "print('Average stratified cross-validation score with linear kernel:{:.4f}'.format(linear_scores.mean()))"
      ],
      "metadata": {
        "trusted": true,
        "id": "egUA9GpWZMwN",
        "colab": {
          "base_uri": "https://localhost:8080/"
        },
        "outputId": "57f3f7f5-2dce-47a4-c2db-f12a965864ec"
      },
      "execution_count": 55,
      "outputs": [
        {
          "output_type": "stream",
          "name": "stdout",
          "text": [
            "Average stratified cross-validation score with linear kernel:0.7062\n"
          ]
        }
      ]
    },
    {
      "cell_type": "markdown",
      "source": [
        "### Stratified k-Fold Cross Validation with shuffle split with rbf kernel"
      ],
      "metadata": {
        "id": "hU9Dq4nyZMwO"
      }
    },
    {
      "cell_type": "code",
      "source": [
        "rbf_svc=SVC(kernel='rbf')\n",
        "\n",
        "\n",
        "rbf_scores = cross_val_score(rbf_svc, X, y, cv=kfold)"
      ],
      "metadata": {
        "trusted": true,
        "id": "4vbag-rYZMwP"
      },
      "execution_count": 56,
      "outputs": []
    },
    {
      "cell_type": "code",
      "source": [
        "# print cross-validation scores with rbf kernel\n",
        "\n",
        "print('Stratified Cross-validation scores with rbf kernel:\\n\\n{}'.format(rbf_scores))"
      ],
      "metadata": {
        "trusted": true,
        "id": "CI-yTrmdZMwQ",
        "colab": {
          "base_uri": "https://localhost:8080/"
        },
        "outputId": "9d5ec91d-18e4-419b-ab0d-37b60fbf4ba9"
      },
      "execution_count": 57,
      "outputs": [
        {
          "output_type": "stream",
          "name": "stdout",
          "text": [
            "Stratified Cross-validation scores with rbf kernel:\n",
            "\n",
            "[0.704 0.703 0.721 0.686 0.716]\n"
          ]
        }
      ]
    },
    {
      "cell_type": "code",
      "source": [
        "# print average cross-validation score with rbf kernel\n",
        "\n",
        "print('Average stratified cross-validation score with rbf kernel:{:.4f}'.format(rbf_scores.mean()))"
      ],
      "metadata": {
        "trusted": true,
        "id": "g0BHRFRHZMwR",
        "colab": {
          "base_uri": "https://localhost:8080/"
        },
        "outputId": "0faacb6b-b85d-417a-ae1a-6e864840bc20"
      },
      "execution_count": 58,
      "outputs": [
        {
          "output_type": "stream",
          "name": "stdout",
          "text": [
            "Average stratified cross-validation score with rbf kernel:0.7060\n"
          ]
        }
      ]
    }
  ]
}